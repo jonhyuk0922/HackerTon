{
  "nbformat": 4,
  "nbformat_minor": 0,
  "metadata": {
    "kernelspec": {
      "name": "python3",
      "display_name": "Python 3"
    },
    "colab": {
      "name": "[베이스라인]_데이콘 베이스라인 코드 (랜덤포레스트).ipynb",
      "provenance": [],
      "machine_shape": "hm",
      "include_colab_link": true
    },
    "language_info": {
      "name": "python"
    },
    "accelerator": "GPU"
  },
  "cells": [
    {
      "cell_type": "markdown",
      "metadata": {
        "id": "view-in-github",
        "colab_type": "text"
      },
      "source": [
        "<a href=\"https://colab.research.google.com/github/jonhyuk0922/kaggle_study/blob/main/%5B%E1%84%87%E1%85%A6%E1%84%8B%E1%85%B5%E1%84%89%E1%85%B3%E1%84%85%E1%85%A1%E1%84%8B%E1%85%B5%E1%86%AB%5D_%E1%84%83%E1%85%A6%E1%84%8B%E1%85%B5%E1%84%8F%E1%85%A9%E1%86%AB_%E1%84%87%E1%85%A6%E1%84%8B%E1%85%B5%E1%84%89%E1%85%B3%E1%84%85%E1%85%A1%E1%84%8B%E1%85%B5%E1%86%AB_%E1%84%8F%E1%85%A9%E1%84%83%E1%85%B3_(%E1%84%85%E1%85%A2%E1%86%AB%E1%84%83%E1%85%A5%E1%86%B7%E1%84%91%E1%85%A9%E1%84%85%E1%85%A6%E1%84%89%E1%85%B3%E1%84%90%E1%85%B3).ipynb\" target=\"_parent\"><img src=\"https://colab.research.google.com/assets/colab-badge.svg\" alt=\"Open In Colab\"/></a>"
      ]
    },
    {
      "cell_type": "markdown",
      "metadata": {
        "id": "AaWkvFhtuj4P"
      },
      "source": [
        "## 사용 패키지"
      ]
    },
    {
      "cell_type": "code",
      "metadata": {
        "id": "1V4SnUEPuj4R"
      },
      "source": [
        "import pandas as pd\n",
        "import numpy as np\n",
        "from sklearn.ensemble import RandomForestRegressor\n",
        "from sklearn.linear_model import LinearRegression\n",
        "import lightgbm as lgb\n",
        "import zipfile"
      ],
      "execution_count": null,
      "outputs": []
    },
    {
      "cell_type": "markdown",
      "metadata": {
        "id": "9YjNw78Muj4S"
      },
      "source": [
        "## 데이터 로드"
      ]
    },
    {
      "cell_type": "code",
      "metadata": {
        "id": "1wa04ePbvBz8"
      },
      "source": [
        "local_zip = '/content/drive/MyDrive/HackerTon/데이콘_구내식당/235743_구내식당 식사 인원 예측 AI 경진대회_data.zip'\n",
        "\n",
        "zip_ref = zipfile.ZipFile(local_zip,'r')\n",
        "zip_ref.extractall('/tmp')\n",
        "zip_ref.close()"
      ],
      "execution_count": null,
      "outputs": []
    },
    {
      "cell_type": "code",
      "metadata": {
        "id": "S1_CjgYruj4T"
      },
      "source": [
        "train = pd.read_csv('/tmp/train.csv')\n",
        "test = pd.read_csv('/tmp/test.csv')\n",
        "submission = pd.read_csv('/tmp/sample_submission.csv')"
      ],
      "execution_count": null,
      "outputs": []
    },
    {
      "cell_type": "markdown",
      "metadata": {
        "id": "EHWtuDX7uj4T"
      },
      "source": [
        "## 데이터"
      ]
    },
    {
      "cell_type": "code",
      "metadata": {
        "colab": {
          "base_uri": "https://localhost:8080/",
          "height": 595
        },
        "id": "204Fy2gNuj4U",
        "outputId": "7fb245f7-c652-42cd-fe75-b183a2ad885e"
      },
      "source": [
        "train.head()"
      ],
      "execution_count": null,
      "outputs": [
        {
          "output_type": "execute_result",
          "data": {
            "text/html": [
              "<div>\n",
              "<style scoped>\n",
              "    .dataframe tbody tr th:only-of-type {\n",
              "        vertical-align: middle;\n",
              "    }\n",
              "\n",
              "    .dataframe tbody tr th {\n",
              "        vertical-align: top;\n",
              "    }\n",
              "\n",
              "    .dataframe thead th {\n",
              "        text-align: right;\n",
              "    }\n",
              "</style>\n",
              "<table border=\"1\" class=\"dataframe\">\n",
              "  <thead>\n",
              "    <tr style=\"text-align: right;\">\n",
              "      <th></th>\n",
              "      <th>일자</th>\n",
              "      <th>요일</th>\n",
              "      <th>본사정원수</th>\n",
              "      <th>본사휴가자수</th>\n",
              "      <th>본사출장자수</th>\n",
              "      <th>본사시간외근무명령서승인건수</th>\n",
              "      <th>현본사소속재택근무자수</th>\n",
              "      <th>조식메뉴</th>\n",
              "      <th>중식메뉴</th>\n",
              "      <th>석식메뉴</th>\n",
              "      <th>중식계</th>\n",
              "      <th>석식계</th>\n",
              "    </tr>\n",
              "  </thead>\n",
              "  <tbody>\n",
              "    <tr>\n",
              "      <th>0</th>\n",
              "      <td>2016-02-01</td>\n",
              "      <td>월</td>\n",
              "      <td>2601</td>\n",
              "      <td>50</td>\n",
              "      <td>150</td>\n",
              "      <td>238</td>\n",
              "      <td>0.0</td>\n",
              "      <td>모닝롤/찐빵  우유/두유/주스 계란후라이  호두죽/쌀밥 (쌀:국내산) 된장찌개  쥐...</td>\n",
              "      <td>쌀밥/잡곡밥 (쌀,현미흑미:국내산) 오징어찌개  쇠불고기 (쇠고기:호주산) 계란찜 ...</td>\n",
              "      <td>쌀밥/잡곡밥 (쌀,현미흑미:국내산) 육개장  자반고등어구이  두부조림  건파래무침 ...</td>\n",
              "      <td>1039.0</td>\n",
              "      <td>331.0</td>\n",
              "    </tr>\n",
              "    <tr>\n",
              "      <th>1</th>\n",
              "      <td>2016-02-02</td>\n",
              "      <td>화</td>\n",
              "      <td>2601</td>\n",
              "      <td>50</td>\n",
              "      <td>173</td>\n",
              "      <td>319</td>\n",
              "      <td>0.0</td>\n",
              "      <td>모닝롤/단호박샌드  우유/두유/주스 계란후라이  팥죽/쌀밥 (쌀:국내산) 호박젓국찌...</td>\n",
              "      <td>쌀밥/잡곡밥 (쌀,현미흑미:국내산) 김치찌개  가자미튀김  모둠소세지구이  마늘쫑무...</td>\n",
              "      <td>콩나물밥*양념장 (쌀,현미흑미:국내산) 어묵국  유산슬 (쇠고기:호주산) 아삭고추무...</td>\n",
              "      <td>867.0</td>\n",
              "      <td>560.0</td>\n",
              "    </tr>\n",
              "    <tr>\n",
              "      <th>2</th>\n",
              "      <td>2016-02-03</td>\n",
              "      <td>수</td>\n",
              "      <td>2601</td>\n",
              "      <td>56</td>\n",
              "      <td>180</td>\n",
              "      <td>111</td>\n",
              "      <td>0.0</td>\n",
              "      <td>모닝롤/베이글  우유/두유/주스 계란후라이  표고버섯죽/쌀밥 (쌀:국내산) 콩나물국...</td>\n",
              "      <td>카레덮밥 (쌀,현미흑미:국내산) 팽이장국  치킨핑거 (닭고기:국내산) 쫄면야채무침 ...</td>\n",
              "      <td>쌀밥/잡곡밥 (쌀,현미흑미:국내산) 청국장찌개  황태양념구이 (황태:러시아산) 고기...</td>\n",
              "      <td>1017.0</td>\n",
              "      <td>573.0</td>\n",
              "    </tr>\n",
              "    <tr>\n",
              "      <th>3</th>\n",
              "      <td>2016-02-04</td>\n",
              "      <td>목</td>\n",
              "      <td>2601</td>\n",
              "      <td>104</td>\n",
              "      <td>220</td>\n",
              "      <td>355</td>\n",
              "      <td>0.0</td>\n",
              "      <td>모닝롤/토마토샌드  우유/두유/주스 계란후라이  닭죽/쌀밥 (쌀,닭:국내산) 근대국...</td>\n",
              "      <td>쌀밥/잡곡밥 (쌀,현미흑미:국내산) 쇠고기무국  주꾸미볶음  부추전  시금치나물  ...</td>\n",
              "      <td>미니김밥*겨자장 (쌀,현미흑미:국내산) 우동  멕시칸샐러드  군고구마  무피클  포...</td>\n",
              "      <td>978.0</td>\n",
              "      <td>525.0</td>\n",
              "    </tr>\n",
              "    <tr>\n",
              "      <th>4</th>\n",
              "      <td>2016-02-05</td>\n",
              "      <td>금</td>\n",
              "      <td>2601</td>\n",
              "      <td>278</td>\n",
              "      <td>181</td>\n",
              "      <td>34</td>\n",
              "      <td>0.0</td>\n",
              "      <td>모닝롤/와플  우유/두유/주스 계란후라이  쇠고기죽/쌀밥 (쌀:국내산) 재첩국  방...</td>\n",
              "      <td>쌀밥/잡곡밥 (쌀,현미흑미:국내산) 떡국  돈육씨앗강정 (돼지고기:국내산) 우엉잡채...</td>\n",
              "      <td>쌀밥/잡곡밥 (쌀,현미흑미:국내산) 차돌박이찌개 (쇠고기:호주산) 닭갈비 (닭고기:...</td>\n",
              "      <td>925.0</td>\n",
              "      <td>330.0</td>\n",
              "    </tr>\n",
              "  </tbody>\n",
              "</table>\n",
              "</div>"
            ],
            "text/plain": [
              "           일자 요일  ...     중식계    석식계\n",
              "0  2016-02-01  월  ...  1039.0  331.0\n",
              "1  2016-02-02  화  ...   867.0  560.0\n",
              "2  2016-02-03  수  ...  1017.0  573.0\n",
              "3  2016-02-04  목  ...   978.0  525.0\n",
              "4  2016-02-05  금  ...   925.0  330.0\n",
              "\n",
              "[5 rows x 12 columns]"
            ]
          },
          "metadata": {
            "tags": []
          },
          "execution_count": 8
        }
      ]
    },
    {
      "cell_type": "code",
      "metadata": {
        "colab": {
          "base_uri": "https://localhost:8080/",
          "height": 595
        },
        "id": "M57pzUyyuj4U",
        "outputId": "4241c12b-268d-4a96-ca65-5d7757dc0a0e"
      },
      "source": [
        "test.head()"
      ],
      "execution_count": null,
      "outputs": [
        {
          "output_type": "execute_result",
          "data": {
            "text/html": [
              "<div>\n",
              "<style scoped>\n",
              "    .dataframe tbody tr th:only-of-type {\n",
              "        vertical-align: middle;\n",
              "    }\n",
              "\n",
              "    .dataframe tbody tr th {\n",
              "        vertical-align: top;\n",
              "    }\n",
              "\n",
              "    .dataframe thead th {\n",
              "        text-align: right;\n",
              "    }\n",
              "</style>\n",
              "<table border=\"1\" class=\"dataframe\">\n",
              "  <thead>\n",
              "    <tr style=\"text-align: right;\">\n",
              "      <th></th>\n",
              "      <th>일자</th>\n",
              "      <th>요일</th>\n",
              "      <th>본사정원수</th>\n",
              "      <th>본사휴가자수</th>\n",
              "      <th>본사출장자수</th>\n",
              "      <th>본사시간외근무명령서승인건수</th>\n",
              "      <th>현본사소속재택근무자수</th>\n",
              "      <th>조식메뉴</th>\n",
              "      <th>중식메뉴</th>\n",
              "      <th>석식메뉴</th>\n",
              "    </tr>\n",
              "  </thead>\n",
              "  <tbody>\n",
              "    <tr>\n",
              "      <th>0</th>\n",
              "      <td>2021-01-27</td>\n",
              "      <td>수</td>\n",
              "      <td>2983</td>\n",
              "      <td>88</td>\n",
              "      <td>182</td>\n",
              "      <td>5</td>\n",
              "      <td>358.0</td>\n",
              "      <td>모닝롤/연유버터베이글 우유/주스 계란후라이/찐계란 단호박죽/흑미밥 우거지국 고기완자...</td>\n",
              "      <td>쌀밥/흑미밥/찰현미밥 대구지리 매운돈갈비찜 오꼬노미계란말이 상추무침 포기김치 양상추...</td>\n",
              "      <td>흑미밥 얼큰순두부찌개 쇠고기우엉볶음 버섯햄볶음 (New)아삭이고추무절임 포기김치</td>\n",
              "    </tr>\n",
              "    <tr>\n",
              "      <th>1</th>\n",
              "      <td>2021-01-28</td>\n",
              "      <td>목</td>\n",
              "      <td>2983</td>\n",
              "      <td>104</td>\n",
              "      <td>212</td>\n",
              "      <td>409</td>\n",
              "      <td>348.0</td>\n",
              "      <td>모닝롤/대만샌드위치 우유/주스 계란후라이/찐계란 누룽지탕/흑미밥 황태국 시래기지짐 ...</td>\n",
              "      <td>쌀밥/보리밥/찰현미밥 우렁된장찌개 오리주물럭 청양부추전 수제삼색무쌈 겉절이김치 양상...</td>\n",
              "      <td>충무김밥 우동국물 오징어무침 꽃맛살샐러드 얼갈이쌈장무침 석박지</td>\n",
              "    </tr>\n",
              "    <tr>\n",
              "      <th>2</th>\n",
              "      <td>2021-01-29</td>\n",
              "      <td>금</td>\n",
              "      <td>2983</td>\n",
              "      <td>270</td>\n",
              "      <td>249</td>\n",
              "      <td>0</td>\n",
              "      <td>294.0</td>\n",
              "      <td>모닝롤/핫케익 우유/주스 계란후라이/찐계란 오곡죽/흑미밥 매생이굴국 고구마순볶음 양...</td>\n",
              "      <td>쌀밥/흑미밥/찰현미밥 팽이장국 수제돈까스*소스 가자미조림 동초나물무침 포기김치 양상...</td>\n",
              "      <td>흑미밥 물만둣국 카레찜닭 숯불양념꼬지어묵 꼬시래기무침 포기김치</td>\n",
              "    </tr>\n",
              "    <tr>\n",
              "      <th>3</th>\n",
              "      <td>2021-02-01</td>\n",
              "      <td>월</td>\n",
              "      <td>2924</td>\n",
              "      <td>108</td>\n",
              "      <td>154</td>\n",
              "      <td>538</td>\n",
              "      <td>322.0</td>\n",
              "      <td>모닝롤/촉촉한치즈케익 우유/주스 계란후라이/찐계란 누룽지탕/흑미밥 두부김칫국 새우완...</td>\n",
              "      <td>쌀밥/흑미밥/찰현미밥 배추들깨국 오리대패불고기 시금치프리타타 부추고추장무침 포기김치...</td>\n",
              "      <td>흑미밥 동태탕 돈육꽈리고추장조림 당면채소무침 모자반무침 포기김치</td>\n",
              "    </tr>\n",
              "    <tr>\n",
              "      <th>4</th>\n",
              "      <td>2021-02-02</td>\n",
              "      <td>화</td>\n",
              "      <td>2924</td>\n",
              "      <td>62</td>\n",
              "      <td>186</td>\n",
              "      <td>455</td>\n",
              "      <td>314.0</td>\n",
              "      <td>모닝롤/토마토샌드 우유/주스 계란후라이/찐계란 채소죽/흑미밥 호박맑은국 오이생채 양...</td>\n",
              "      <td>쌀밥/팥밥/찰현미밥 부대찌개 닭살데리야끼조림 버섯탕수 세발나물무침 알타리김치/사과푸...</td>\n",
              "      <td>흑미밥 바지락살국 쇠고기청경채볶음 두부구이*볶은김치 머위된장무침 백김치</td>\n",
              "    </tr>\n",
              "  </tbody>\n",
              "</table>\n",
              "</div>"
            ],
            "text/plain": [
              "           일자  ...                                           석식메뉴\n",
              "0  2021-01-27  ...  흑미밥 얼큰순두부찌개 쇠고기우엉볶음 버섯햄볶음 (New)아삭이고추무절임 포기김치 \n",
              "1  2021-01-28  ...            충무김밥 우동국물 오징어무침 꽃맛살샐러드 얼갈이쌈장무침 석박지 \n",
              "2  2021-01-29  ...            흑미밥 물만둣국 카레찜닭 숯불양념꼬지어묵 꼬시래기무침 포기김치 \n",
              "3  2021-02-01  ...           흑미밥 동태탕 돈육꽈리고추장조림 당면채소무침 모자반무침 포기김치 \n",
              "4  2021-02-02  ...       흑미밥 바지락살국 쇠고기청경채볶음 두부구이*볶은김치 머위된장무침 백김치 \n",
              "\n",
              "[5 rows x 10 columns]"
            ]
          },
          "metadata": {
            "tags": []
          },
          "execution_count": 9
        }
      ]
    },
    {
      "cell_type": "code",
      "metadata": {
        "colab": {
          "base_uri": "https://localhost:8080/",
          "height": 204
        },
        "id": "DTRGjI_Quj4V",
        "outputId": "e95c17ff-f57e-4d52-c25c-cf1c6f2222a8"
      },
      "source": [
        "submission.head()"
      ],
      "execution_count": null,
      "outputs": [
        {
          "output_type": "execute_result",
          "data": {
            "text/html": [
              "<div>\n",
              "<style scoped>\n",
              "    .dataframe tbody tr th:only-of-type {\n",
              "        vertical-align: middle;\n",
              "    }\n",
              "\n",
              "    .dataframe tbody tr th {\n",
              "        vertical-align: top;\n",
              "    }\n",
              "\n",
              "    .dataframe thead th {\n",
              "        text-align: right;\n",
              "    }\n",
              "</style>\n",
              "<table border=\"1\" class=\"dataframe\">\n",
              "  <thead>\n",
              "    <tr style=\"text-align: right;\">\n",
              "      <th></th>\n",
              "      <th>일자</th>\n",
              "      <th>중식계</th>\n",
              "      <th>석식계</th>\n",
              "    </tr>\n",
              "  </thead>\n",
              "  <tbody>\n",
              "    <tr>\n",
              "      <th>0</th>\n",
              "      <td>2021-01-27</td>\n",
              "      <td>0</td>\n",
              "      <td>0</td>\n",
              "    </tr>\n",
              "    <tr>\n",
              "      <th>1</th>\n",
              "      <td>2021-01-28</td>\n",
              "      <td>0</td>\n",
              "      <td>0</td>\n",
              "    </tr>\n",
              "    <tr>\n",
              "      <th>2</th>\n",
              "      <td>2021-01-29</td>\n",
              "      <td>0</td>\n",
              "      <td>0</td>\n",
              "    </tr>\n",
              "    <tr>\n",
              "      <th>3</th>\n",
              "      <td>2021-02-01</td>\n",
              "      <td>0</td>\n",
              "      <td>0</td>\n",
              "    </tr>\n",
              "    <tr>\n",
              "      <th>4</th>\n",
              "      <td>2021-02-02</td>\n",
              "      <td>0</td>\n",
              "      <td>0</td>\n",
              "    </tr>\n",
              "  </tbody>\n",
              "</table>\n",
              "</div>"
            ],
            "text/plain": [
              "           일자  중식계  석식계\n",
              "0  2021-01-27    0    0\n",
              "1  2021-01-28    0    0\n",
              "2  2021-01-29    0    0\n",
              "3  2021-02-01    0    0\n",
              "4  2021-02-02    0    0"
            ]
          },
          "metadata": {
            "tags": []
          },
          "execution_count": 10
        }
      ]
    },
    {
      "cell_type": "markdown",
      "metadata": {
        "id": "Qo_oEuk9uj4V"
      },
      "source": [
        "## 요일을 숫자로 매핑"
      ]
    },
    {
      "cell_type": "code",
      "metadata": {
        "id": "EOJyo3MNuj4W"
      },
      "source": [
        "train['요일'] = train['요일'].map({'월':0, '화':1, '수':2, '목':3, '금':4})\n",
        "test['요일'] = test['요일'].map({'월':0, '화':1, '수':2, '목':3, '금':4})"
      ],
      "execution_count": null,
      "outputs": []
    },
    {
      "cell_type": "markdown",
      "metadata": {
        "id": "Y4fjKBVAuj4W"
      },
      "source": [
        "## 수치 데이터만 피쳐로 선택"
      ]
    },
    {
      "cell_type": "code",
      "metadata": {
        "id": "1jprSqmJuj4W"
      },
      "source": [
        "x_train = train[['요일', '본사정원수', '본사출장자수', '본사시간외근무명령서승인건수', '현본사소속재택근무자수']]\n",
        "y1_train = train['중식계']\n",
        "y2_train = train['석식계']\n",
        "\n",
        "x_test = test[['요일', '본사정원수', '본사출장자수', '본사시간외근무명령서승인건수', '현본사소속재택근무자수']]"
      ],
      "execution_count": null,
      "outputs": []
    },
    {
      "cell_type": "code",
      "metadata": {
        "id": "19zRAelR2Au_"
      },
      "source": [
        "model_dict = {\n",
        "    'linear':LinearRegression(), \n",
        "    'rf':RandomForestRegressor(random_state=42,n_jobs=-1),\n",
        "    'lgbm':lgb.LGBMRegressor(random_state=42)\n",
        "}"
      ],
      "execution_count": null,
      "outputs": []
    },
    {
      "cell_type": "code",
      "metadata": {
        "id": "EjeFHF586bZn"
      },
      "source": [
        "model = tf.keras.Sequential"
      ],
      "execution_count": null,
      "outputs": []
    },
    {
      "cell_type": "code",
      "metadata": {
        "colab": {
          "base_uri": "https://localhost:8080/"
        },
        "id": "eS1mxsNP2Tj9",
        "outputId": "fadd4d49-2684-4194-a608-c541119a99a7"
      },
      "source": [
        "model_dict.keys()"
      ],
      "execution_count": null,
      "outputs": [
        {
          "output_type": "execute_result",
          "data": {
            "text/plain": [
              "dict_keys(['linear', 'rf', 'lgbm'])"
            ]
          },
          "metadata": {
            "tags": []
          },
          "execution_count": 21
        }
      ]
    },
    {
      "cell_type": "markdown",
      "metadata": {
        "id": "l--WNuSPuj4W"
      },
      "source": [
        "## 점심과 저녁을 식수 인원을 예측할 2개 모델 생성"
      ]
    },
    {
      "cell_type": "code",
      "metadata": {
        "id": "Mt34V9uHuj4X"
      },
      "source": [
        "model1 = model_dict['lgbm']\n",
        "model2 = model_dict['lgbm']"
      ],
      "execution_count": null,
      "outputs": []
    },
    {
      "cell_type": "markdown",
      "metadata": {
        "id": "KvtEbcL5uj4X"
      },
      "source": [
        "## 학습"
      ]
    },
    {
      "cell_type": "code",
      "metadata": {
        "colab": {
          "base_uri": "https://localhost:8080/"
        },
        "id": "QK0XOMTZuj4X",
        "outputId": "4219304f-a242-4606-91a1-67d47f760587"
      },
      "source": [
        "model1.fit(x_train, y1_train)\n",
        "model2.fit(x_train, y2_train)"
      ],
      "execution_count": null,
      "outputs": [
        {
          "output_type": "execute_result",
          "data": {
            "text/plain": [
              "LGBMRegressor(boosting_type='gbdt', class_weight=None, colsample_bytree=1.0,\n",
              "              importance_type='split', learning_rate=0.1, max_depth=-1,\n",
              "              min_child_samples=20, min_child_weight=0.001, min_split_gain=0.0,\n",
              "              n_estimators=100, n_jobs=-1, num_leaves=31, objective=None,\n",
              "              random_state=42, reg_alpha=0.0, reg_lambda=0.0, silent=True,\n",
              "              subsample=1.0, subsample_for_bin=200000, subsample_freq=0)"
            ]
          },
          "metadata": {
            "tags": []
          },
          "execution_count": 28
        }
      ]
    },
    {
      "cell_type": "markdown",
      "metadata": {
        "id": "BC-hwjyXuj4X"
      },
      "source": [
        "## 추론"
      ]
    },
    {
      "cell_type": "code",
      "metadata": {
        "id": "A5RlbS_2uj4X"
      },
      "source": [
        "pred1 = model1.predict(x_test)\n",
        "pred2 = model2.predict(x_test)"
      ],
      "execution_count": null,
      "outputs": []
    },
    {
      "cell_type": "markdown",
      "metadata": {
        "id": "FsATPR3zuj4Y"
      },
      "source": [
        "## 결과 제출"
      ]
    },
    {
      "cell_type": "code",
      "metadata": {
        "id": "KgqhOuNruj4Y"
      },
      "source": [
        "submission['중식계'] = pred1\n",
        "submission['석식계'] = pred2"
      ],
      "execution_count": null,
      "outputs": []
    },
    {
      "cell_type": "code",
      "metadata": {
        "id": "0nuMt8Qxuj4Y"
      },
      "source": [
        "submission.to_csv('baseline.csv', index=False)"
      ],
      "execution_count": null,
      "outputs": []
    },
    {
      "cell_type": "code",
      "metadata": {
        "id": "LGBfiZsEv19l"
      },
      "source": [
        ""
      ],
      "execution_count": null,
      "outputs": []
    }
  ]
}