{
  "nbformat": 4,
  "nbformat_minor": 0,
  "metadata": {
    "kernelspec": {
      "name": "python3",
      "display_name": "Python 3"
    },
    "colab": {
      "name": "[dacon] 구내식당",
      "provenance": [],
      "machine_shape": "hm",
      "include_colab_link": true
    },
    "language_info": {
      "name": "python"
    },
    "accelerator": "GPU"
  },
  "cells": [
    {
      "cell_type": "markdown",
      "metadata": {
        "id": "view-in-github",
        "colab_type": "text"
      },
      "source": [
        "<a href=\"https://colab.research.google.com/github/jonhyuk0922/kaggle_study/blob/main/%5Bdacon%5D_%EA%B5%AC%EB%82%B4%EC%8B%9D%EB%8B%B9.ipynb\" target=\"_parent\"><img src=\"https://colab.research.google.com/assets/colab-badge.svg\" alt=\"Open In Colab\"/></a>"
      ]
    },
    {
      "cell_type": "markdown",
      "metadata": {
        "id": "AaWkvFhtuj4P"
      },
      "source": [
        "## 사용 패키지"
      ]
    },
    {
      "cell_type": "code",
      "metadata": {
        "id": "1V4SnUEPuj4R"
      },
      "source": [
        "import pandas as pd\n",
        "import numpy as np\n",
        "import matplotlib.pyplot as plt\n",
        "from tqdm import tqdm\n",
        "from sklearn.preprocessing import LabelEncoder\n",
        "from sklearn.model_selection import train_test_split\n",
        "from sklearn.metrics import mean_absolute_error\n",
        "from lightgbm import LGBMRegressor\n",
        "\n",
        "from gensim.models import Word2Vec\n",
        "from gensim.models import KeyedVectors\n",
        "from sklearn.manifold import TSNE\n",
        "from sklearn.decomposition import PCA\n",
        "\n",
        "import tensorflow as tf\n",
        "from sklearn.ensemble import RandomForestRegressor\n",
        "from sklearn.linear_model import LinearRegression\n",
        "import lightgbm as lgb\n",
        "import zipfile"
      ],
      "execution_count": 115,
      "outputs": []
    },
    {
      "cell_type": "code",
      "metadata": {
        "id": "qjvn5YxnpbHy"
      },
      "source": [
        "#HYPER PARAMETERS\n",
        "\n",
        "class CFG:\n",
        "  emb_dim = 200\n",
        "\n",
        "args = CFG"
      ],
      "execution_count": 116,
      "outputs": []
    },
    {
      "cell_type": "markdown",
      "metadata": {
        "id": "9YjNw78Muj4S"
      },
      "source": [
        "## 데이터 로드"
      ]
    },
    {
      "cell_type": "code",
      "metadata": {
        "colab": {
          "base_uri": "https://localhost:8080/"
        },
        "id": "NfxEue5LjUK5",
        "outputId": "36d65fdb-a225-4af2-c32f-51488bbad1f0"
      },
      "source": [
        "from google.colab import drive\n",
        "drive.mount('/content/drive')"
      ],
      "execution_count": 11,
      "outputs": [
        {
          "output_type": "stream",
          "text": [
            "Mounted at /content/drive\n"
          ],
          "name": "stdout"
        }
      ]
    },
    {
      "cell_type": "code",
      "metadata": {
        "id": "1wa04ePbvBz8"
      },
      "source": [
        "local_zip = '/content/drive/MyDrive/HackerTon/데이콘_구내식당/235743_구내식당 식사 인원 예측 AI 경진대회_data.zip'\n",
        "\n",
        "zip_ref = zipfile.ZipFile(local_zip,'r')\n",
        "zip_ref.extractall('/tmp')\n",
        "zip_ref.close()"
      ],
      "execution_count": 12,
      "outputs": []
    },
    {
      "cell_type": "code",
      "metadata": {
        "id": "S1_CjgYruj4T"
      },
      "source": [
        "train = pd.read_csv('/tmp/train.csv')\n",
        "test = pd.read_csv('/tmp/test.csv')\n",
        "submission = pd.read_csv('/tmp/sample_submission.csv')"
      ],
      "execution_count": 117,
      "outputs": []
    },
    {
      "cell_type": "markdown",
      "metadata": {
        "id": "EHWtuDX7uj4T"
      },
      "source": [
        "## 데이터"
      ]
    },
    {
      "cell_type": "code",
      "metadata": {
        "colab": {
          "base_uri": "https://localhost:8080/",
          "height": 510
        },
        "id": "204Fy2gNuj4U",
        "outputId": "886793cf-10d5-4892-e894-c10368fc3bda"
      },
      "source": [
        "train.head()"
      ],
      "execution_count": 118,
      "outputs": [
        {
          "output_type": "execute_result",
          "data": {
            "text/html": [
              "<div>\n",
              "<style scoped>\n",
              "    .dataframe tbody tr th:only-of-type {\n",
              "        vertical-align: middle;\n",
              "    }\n",
              "\n",
              "    .dataframe tbody tr th {\n",
              "        vertical-align: top;\n",
              "    }\n",
              "\n",
              "    .dataframe thead th {\n",
              "        text-align: right;\n",
              "    }\n",
              "</style>\n",
              "<table border=\"1\" class=\"dataframe\">\n",
              "  <thead>\n",
              "    <tr style=\"text-align: right;\">\n",
              "      <th></th>\n",
              "      <th>일자</th>\n",
              "      <th>요일</th>\n",
              "      <th>본사정원수</th>\n",
              "      <th>본사휴가자수</th>\n",
              "      <th>본사출장자수</th>\n",
              "      <th>본사시간외근무명령서승인건수</th>\n",
              "      <th>현본사소속재택근무자수</th>\n",
              "      <th>조식메뉴</th>\n",
              "      <th>중식메뉴</th>\n",
              "      <th>석식메뉴</th>\n",
              "      <th>중식계</th>\n",
              "      <th>석식계</th>\n",
              "    </tr>\n",
              "  </thead>\n",
              "  <tbody>\n",
              "    <tr>\n",
              "      <th>0</th>\n",
              "      <td>2016-02-01</td>\n",
              "      <td>월</td>\n",
              "      <td>2601</td>\n",
              "      <td>50</td>\n",
              "      <td>150</td>\n",
              "      <td>238</td>\n",
              "      <td>0.0</td>\n",
              "      <td>모닝롤/찐빵  우유/두유/주스 계란후라이  호두죽/쌀밥 (쌀:국내산) 된장찌개  쥐...</td>\n",
              "      <td>쌀밥/잡곡밥 (쌀,현미흑미:국내산) 오징어찌개  쇠불고기 (쇠고기:호주산) 계란찜 ...</td>\n",
              "      <td>쌀밥/잡곡밥 (쌀,현미흑미:국내산) 육개장  자반고등어구이  두부조림  건파래무침 ...</td>\n",
              "      <td>1039.0</td>\n",
              "      <td>331.0</td>\n",
              "    </tr>\n",
              "    <tr>\n",
              "      <th>1</th>\n",
              "      <td>2016-02-02</td>\n",
              "      <td>화</td>\n",
              "      <td>2601</td>\n",
              "      <td>50</td>\n",
              "      <td>173</td>\n",
              "      <td>319</td>\n",
              "      <td>0.0</td>\n",
              "      <td>모닝롤/단호박샌드  우유/두유/주스 계란후라이  팥죽/쌀밥 (쌀:국내산) 호박젓국찌...</td>\n",
              "      <td>쌀밥/잡곡밥 (쌀,현미흑미:국내산) 김치찌개  가자미튀김  모둠소세지구이  마늘쫑무...</td>\n",
              "      <td>콩나물밥*양념장 (쌀,현미흑미:국내산) 어묵국  유산슬 (쇠고기:호주산) 아삭고추무...</td>\n",
              "      <td>867.0</td>\n",
              "      <td>560.0</td>\n",
              "    </tr>\n",
              "    <tr>\n",
              "      <th>2</th>\n",
              "      <td>2016-02-03</td>\n",
              "      <td>수</td>\n",
              "      <td>2601</td>\n",
              "      <td>56</td>\n",
              "      <td>180</td>\n",
              "      <td>111</td>\n",
              "      <td>0.0</td>\n",
              "      <td>모닝롤/베이글  우유/두유/주스 계란후라이  표고버섯죽/쌀밥 (쌀:국내산) 콩나물국...</td>\n",
              "      <td>카레덮밥 (쌀,현미흑미:국내산) 팽이장국  치킨핑거 (닭고기:국내산) 쫄면야채무침 ...</td>\n",
              "      <td>쌀밥/잡곡밥 (쌀,현미흑미:국내산) 청국장찌개  황태양념구이 (황태:러시아산) 고기...</td>\n",
              "      <td>1017.0</td>\n",
              "      <td>573.0</td>\n",
              "    </tr>\n",
              "    <tr>\n",
              "      <th>3</th>\n",
              "      <td>2016-02-04</td>\n",
              "      <td>목</td>\n",
              "      <td>2601</td>\n",
              "      <td>104</td>\n",
              "      <td>220</td>\n",
              "      <td>355</td>\n",
              "      <td>0.0</td>\n",
              "      <td>모닝롤/토마토샌드  우유/두유/주스 계란후라이  닭죽/쌀밥 (쌀,닭:국내산) 근대국...</td>\n",
              "      <td>쌀밥/잡곡밥 (쌀,현미흑미:국내산) 쇠고기무국  주꾸미볶음  부추전  시금치나물  ...</td>\n",
              "      <td>미니김밥*겨자장 (쌀,현미흑미:국내산) 우동  멕시칸샐러드  군고구마  무피클  포...</td>\n",
              "      <td>978.0</td>\n",
              "      <td>525.0</td>\n",
              "    </tr>\n",
              "    <tr>\n",
              "      <th>4</th>\n",
              "      <td>2016-02-05</td>\n",
              "      <td>금</td>\n",
              "      <td>2601</td>\n",
              "      <td>278</td>\n",
              "      <td>181</td>\n",
              "      <td>34</td>\n",
              "      <td>0.0</td>\n",
              "      <td>모닝롤/와플  우유/두유/주스 계란후라이  쇠고기죽/쌀밥 (쌀:국내산) 재첩국  방...</td>\n",
              "      <td>쌀밥/잡곡밥 (쌀,현미흑미:국내산) 떡국  돈육씨앗강정 (돼지고기:국내산) 우엉잡채...</td>\n",
              "      <td>쌀밥/잡곡밥 (쌀,현미흑미:국내산) 차돌박이찌개 (쇠고기:호주산) 닭갈비 (닭고기:...</td>\n",
              "      <td>925.0</td>\n",
              "      <td>330.0</td>\n",
              "    </tr>\n",
              "  </tbody>\n",
              "</table>\n",
              "</div>"
            ],
            "text/plain": [
              "           일자 요일  ...     중식계    석식계\n",
              "0  2016-02-01  월  ...  1039.0  331.0\n",
              "1  2016-02-02  화  ...   867.0  560.0\n",
              "2  2016-02-03  수  ...  1017.0  573.0\n",
              "3  2016-02-04  목  ...   978.0  525.0\n",
              "4  2016-02-05  금  ...   925.0  330.0\n",
              "\n",
              "[5 rows x 12 columns]"
            ]
          },
          "metadata": {
            "tags": []
          },
          "execution_count": 118
        }
      ]
    },
    {
      "cell_type": "code",
      "metadata": {
        "colab": {
          "base_uri": "https://localhost:8080/",
          "height": 493
        },
        "id": "M57pzUyyuj4U",
        "outputId": "5f42d3ef-ca6a-432f-a2d8-01237065e2e0"
      },
      "source": [
        "test.head()"
      ],
      "execution_count": 119,
      "outputs": [
        {
          "output_type": "execute_result",
          "data": {
            "text/html": [
              "<div>\n",
              "<style scoped>\n",
              "    .dataframe tbody tr th:only-of-type {\n",
              "        vertical-align: middle;\n",
              "    }\n",
              "\n",
              "    .dataframe tbody tr th {\n",
              "        vertical-align: top;\n",
              "    }\n",
              "\n",
              "    .dataframe thead th {\n",
              "        text-align: right;\n",
              "    }\n",
              "</style>\n",
              "<table border=\"1\" class=\"dataframe\">\n",
              "  <thead>\n",
              "    <tr style=\"text-align: right;\">\n",
              "      <th></th>\n",
              "      <th>일자</th>\n",
              "      <th>요일</th>\n",
              "      <th>본사정원수</th>\n",
              "      <th>본사휴가자수</th>\n",
              "      <th>본사출장자수</th>\n",
              "      <th>본사시간외근무명령서승인건수</th>\n",
              "      <th>현본사소속재택근무자수</th>\n",
              "      <th>조식메뉴</th>\n",
              "      <th>중식메뉴</th>\n",
              "      <th>석식메뉴</th>\n",
              "    </tr>\n",
              "  </thead>\n",
              "  <tbody>\n",
              "    <tr>\n",
              "      <th>0</th>\n",
              "      <td>2021-01-27</td>\n",
              "      <td>수</td>\n",
              "      <td>2983</td>\n",
              "      <td>88</td>\n",
              "      <td>182</td>\n",
              "      <td>5</td>\n",
              "      <td>358.0</td>\n",
              "      <td>모닝롤/연유버터베이글 우유/주스 계란후라이/찐계란 단호박죽/흑미밥 우거지국 고기완자...</td>\n",
              "      <td>쌀밥/흑미밥/찰현미밥 대구지리 매운돈갈비찜 오꼬노미계란말이 상추무침 포기김치 양상추...</td>\n",
              "      <td>흑미밥 얼큰순두부찌개 쇠고기우엉볶음 버섯햄볶음 (New)아삭이고추무절임 포기김치</td>\n",
              "    </tr>\n",
              "    <tr>\n",
              "      <th>1</th>\n",
              "      <td>2021-01-28</td>\n",
              "      <td>목</td>\n",
              "      <td>2983</td>\n",
              "      <td>104</td>\n",
              "      <td>212</td>\n",
              "      <td>409</td>\n",
              "      <td>348.0</td>\n",
              "      <td>모닝롤/대만샌드위치 우유/주스 계란후라이/찐계란 누룽지탕/흑미밥 황태국 시래기지짐 ...</td>\n",
              "      <td>쌀밥/보리밥/찰현미밥 우렁된장찌개 오리주물럭 청양부추전 수제삼색무쌈 겉절이김치 양상...</td>\n",
              "      <td>충무김밥 우동국물 오징어무침 꽃맛살샐러드 얼갈이쌈장무침 석박지</td>\n",
              "    </tr>\n",
              "    <tr>\n",
              "      <th>2</th>\n",
              "      <td>2021-01-29</td>\n",
              "      <td>금</td>\n",
              "      <td>2983</td>\n",
              "      <td>270</td>\n",
              "      <td>249</td>\n",
              "      <td>0</td>\n",
              "      <td>294.0</td>\n",
              "      <td>모닝롤/핫케익 우유/주스 계란후라이/찐계란 오곡죽/흑미밥 매생이굴국 고구마순볶음 양...</td>\n",
              "      <td>쌀밥/흑미밥/찰현미밥 팽이장국 수제돈까스*소스 가자미조림 동초나물무침 포기김치 양상...</td>\n",
              "      <td>흑미밥 물만둣국 카레찜닭 숯불양념꼬지어묵 꼬시래기무침 포기김치</td>\n",
              "    </tr>\n",
              "    <tr>\n",
              "      <th>3</th>\n",
              "      <td>2021-02-01</td>\n",
              "      <td>월</td>\n",
              "      <td>2924</td>\n",
              "      <td>108</td>\n",
              "      <td>154</td>\n",
              "      <td>538</td>\n",
              "      <td>322.0</td>\n",
              "      <td>모닝롤/촉촉한치즈케익 우유/주스 계란후라이/찐계란 누룽지탕/흑미밥 두부김칫국 새우완...</td>\n",
              "      <td>쌀밥/흑미밥/찰현미밥 배추들깨국 오리대패불고기 시금치프리타타 부추고추장무침 포기김치...</td>\n",
              "      <td>흑미밥 동태탕 돈육꽈리고추장조림 당면채소무침 모자반무침 포기김치</td>\n",
              "    </tr>\n",
              "    <tr>\n",
              "      <th>4</th>\n",
              "      <td>2021-02-02</td>\n",
              "      <td>화</td>\n",
              "      <td>2924</td>\n",
              "      <td>62</td>\n",
              "      <td>186</td>\n",
              "      <td>455</td>\n",
              "      <td>314.0</td>\n",
              "      <td>모닝롤/토마토샌드 우유/주스 계란후라이/찐계란 채소죽/흑미밥 호박맑은국 오이생채 양...</td>\n",
              "      <td>쌀밥/팥밥/찰현미밥 부대찌개 닭살데리야끼조림 버섯탕수 세발나물무침 알타리김치/사과푸...</td>\n",
              "      <td>흑미밥 바지락살국 쇠고기청경채볶음 두부구이*볶은김치 머위된장무침 백김치</td>\n",
              "    </tr>\n",
              "  </tbody>\n",
              "</table>\n",
              "</div>"
            ],
            "text/plain": [
              "           일자  ...                                           석식메뉴\n",
              "0  2021-01-27  ...  흑미밥 얼큰순두부찌개 쇠고기우엉볶음 버섯햄볶음 (New)아삭이고추무절임 포기김치 \n",
              "1  2021-01-28  ...            충무김밥 우동국물 오징어무침 꽃맛살샐러드 얼갈이쌈장무침 석박지 \n",
              "2  2021-01-29  ...            흑미밥 물만둣국 카레찜닭 숯불양념꼬지어묵 꼬시래기무침 포기김치 \n",
              "3  2021-02-01  ...           흑미밥 동태탕 돈육꽈리고추장조림 당면채소무침 모자반무침 포기김치 \n",
              "4  2021-02-02  ...       흑미밥 바지락살국 쇠고기청경채볶음 두부구이*볶은김치 머위된장무침 백김치 \n",
              "\n",
              "[5 rows x 10 columns]"
            ]
          },
          "metadata": {
            "tags": []
          },
          "execution_count": 119
        }
      ]
    },
    {
      "cell_type": "code",
      "metadata": {
        "colab": {
          "base_uri": "https://localhost:8080/",
          "height": 204
        },
        "id": "DTRGjI_Quj4V",
        "outputId": "92dce452-7fb2-446f-a5e1-2a5bbd94d800"
      },
      "source": [
        "submission.head()"
      ],
      "execution_count": 120,
      "outputs": [
        {
          "output_type": "execute_result",
          "data": {
            "text/html": [
              "<div>\n",
              "<style scoped>\n",
              "    .dataframe tbody tr th:only-of-type {\n",
              "        vertical-align: middle;\n",
              "    }\n",
              "\n",
              "    .dataframe tbody tr th {\n",
              "        vertical-align: top;\n",
              "    }\n",
              "\n",
              "    .dataframe thead th {\n",
              "        text-align: right;\n",
              "    }\n",
              "</style>\n",
              "<table border=\"1\" class=\"dataframe\">\n",
              "  <thead>\n",
              "    <tr style=\"text-align: right;\">\n",
              "      <th></th>\n",
              "      <th>일자</th>\n",
              "      <th>중식계</th>\n",
              "      <th>석식계</th>\n",
              "    </tr>\n",
              "  </thead>\n",
              "  <tbody>\n",
              "    <tr>\n",
              "      <th>0</th>\n",
              "      <td>2021-01-27</td>\n",
              "      <td>0</td>\n",
              "      <td>0</td>\n",
              "    </tr>\n",
              "    <tr>\n",
              "      <th>1</th>\n",
              "      <td>2021-01-28</td>\n",
              "      <td>0</td>\n",
              "      <td>0</td>\n",
              "    </tr>\n",
              "    <tr>\n",
              "      <th>2</th>\n",
              "      <td>2021-01-29</td>\n",
              "      <td>0</td>\n",
              "      <td>0</td>\n",
              "    </tr>\n",
              "    <tr>\n",
              "      <th>3</th>\n",
              "      <td>2021-02-01</td>\n",
              "      <td>0</td>\n",
              "      <td>0</td>\n",
              "    </tr>\n",
              "    <tr>\n",
              "      <th>4</th>\n",
              "      <td>2021-02-02</td>\n",
              "      <td>0</td>\n",
              "      <td>0</td>\n",
              "    </tr>\n",
              "  </tbody>\n",
              "</table>\n",
              "</div>"
            ],
            "text/plain": [
              "           일자  중식계  석식계\n",
              "0  2021-01-27    0    0\n",
              "1  2021-01-28    0    0\n",
              "2  2021-01-29    0    0\n",
              "3  2021-02-01    0    0\n",
              "4  2021-02-02    0    0"
            ]
          },
          "metadata": {
            "tags": []
          },
          "execution_count": 120
        }
      ]
    },
    {
      "cell_type": "markdown",
      "metadata": {
        "id": "gj4X6L8Wppr0"
      },
      "source": [
        "## Word Embedding"
      ]
    },
    {
      "cell_type": "code",
      "metadata": {
        "id": "6Wfr_cjppncv"
      },
      "source": [
        "df_all = pd.concat([train, test])"
      ],
      "execution_count": 121,
      "outputs": []
    },
    {
      "cell_type": "code",
      "metadata": {
        "id": "TzI3Qf3GqGQ2"
      },
      "source": [
        "# Basic text preprocessing\n",
        "\n",
        "def split_process(x, q):\n",
        "    x_ = []\n",
        "    x = x.split(' ')\n",
        "    for i in x:\n",
        "        if '(' in i and ':' in i and ')' in i:\n",
        "            continue\n",
        "        if '/' in i:\n",
        "            x_.extend(i.split('/'))\n",
        "        else:\n",
        "            x_.append(i)\n",
        "    x_ = list(set(x_))\n",
        "    x_.remove('')\n",
        "    return x_"
      ],
      "execution_count": 122,
      "outputs": []
    },
    {
      "cell_type": "code",
      "metadata": {
        "id": "liEUBs65qJtm"
      },
      "source": [
        "# Get all combinations for training w2v (train + test)\n",
        "\n",
        "food_combinations = []\n",
        "for i in ['조식메뉴', '중식메뉴', '석식메뉴']:\n",
        "    food_combinations += df_all[i].apply(lambda x: split_process(x, i)).to_list()"
      ],
      "execution_count": 123,
      "outputs": []
    },
    {
      "cell_type": "code",
      "metadata": {
        "colab": {
          "base_uri": "https://localhost:8080/",
          "height": 460
        },
        "id": "RkgPvh3YqLtW",
        "outputId": "d9c90eed-4daa-48eb-f224-f0c8cbca5025"
      },
      "source": [
        "# Train or load w2v model\n",
        "\n",
        "TRAIN_W2V = True\n",
        "try:\n",
        "    model = Word2Vec.load('food_embedding.model')\n",
        "    print(\"Model loaded\")\n",
        "except:\n",
        "    if TRAIN_W2V:\n",
        "        print(\"Training w2v\")\n",
        "        model = Word2Vec(sentences=food_combinations, vector_size=args.emb_dim, window=7, min_count=0, workers=4, sg=0, epochs=5000)\n",
        "        model.save('food_embedding.model')\n",
        "    else:\n",
        "        print(\"Model loading failed. Do not train.\")"
      ],
      "execution_count": 126,
      "outputs": [
        {
          "output_type": "stream",
          "text": [
            "Training w2v\n"
          ],
          "name": "stdout"
        },
        {
          "output_type": "error",
          "ename": "TypeError",
          "evalue": "ignored",
          "traceback": [
            "\u001b[0;31m---------------------------------------------------------------------------\u001b[0m",
            "\u001b[0;31mFileNotFoundError\u001b[0m                         Traceback (most recent call last)",
            "\u001b[0;32m<ipython-input-126-b9c9740ff58e>\u001b[0m in \u001b[0;36m<module>\u001b[0;34m()\u001b[0m\n\u001b[1;32m      4\u001b[0m \u001b[0;32mtry\u001b[0m\u001b[0;34m:\u001b[0m\u001b[0;34m\u001b[0m\u001b[0;34m\u001b[0m\u001b[0m\n\u001b[0;32m----> 5\u001b[0;31m     \u001b[0mmodel\u001b[0m \u001b[0;34m=\u001b[0m \u001b[0mWord2Vec\u001b[0m\u001b[0;34m.\u001b[0m\u001b[0mload\u001b[0m\u001b[0;34m(\u001b[0m\u001b[0;34m'food_embedding.model'\u001b[0m\u001b[0;34m)\u001b[0m\u001b[0;34m\u001b[0m\u001b[0;34m\u001b[0m\u001b[0m\n\u001b[0m\u001b[1;32m      6\u001b[0m     \u001b[0mprint\u001b[0m\u001b[0;34m(\u001b[0m\u001b[0;34m\"Model loaded\"\u001b[0m\u001b[0;34m)\u001b[0m\u001b[0;34m\u001b[0m\u001b[0;34m\u001b[0m\u001b[0m\n",
            "\u001b[0;32m/usr/local/lib/python3.7/dist-packages/gensim/models/word2vec.py\u001b[0m in \u001b[0;36mload\u001b[0;34m(cls, *args, **kwargs)\u001b[0m\n\u001b[1;32m   1311\u001b[0m         \u001b[0;32mtry\u001b[0m\u001b[0;34m:\u001b[0m\u001b[0;34m\u001b[0m\u001b[0;34m\u001b[0m\u001b[0m\n\u001b[0;32m-> 1312\u001b[0;31m             \u001b[0mmodel\u001b[0m \u001b[0;34m=\u001b[0m \u001b[0msuper\u001b[0m\u001b[0;34m(\u001b[0m\u001b[0mWord2Vec\u001b[0m\u001b[0;34m,\u001b[0m \u001b[0mcls\u001b[0m\u001b[0;34m)\u001b[0m\u001b[0;34m.\u001b[0m\u001b[0mload\u001b[0m\u001b[0;34m(\u001b[0m\u001b[0;34m*\u001b[0m\u001b[0margs\u001b[0m\u001b[0;34m,\u001b[0m \u001b[0;34m**\u001b[0m\u001b[0mkwargs\u001b[0m\u001b[0;34m)\u001b[0m\u001b[0;34m\u001b[0m\u001b[0;34m\u001b[0m\u001b[0m\n\u001b[0m\u001b[1;32m   1313\u001b[0m \u001b[0;34m\u001b[0m\u001b[0m\n",
            "\u001b[0;32m/usr/local/lib/python3.7/dist-packages/gensim/models/base_any2vec.py\u001b[0m in \u001b[0;36mload\u001b[0;34m(cls, *args, **kwargs)\u001b[0m\n\u001b[1;32m   1243\u001b[0m         \"\"\"\n\u001b[0;32m-> 1244\u001b[0;31m         \u001b[0mmodel\u001b[0m \u001b[0;34m=\u001b[0m \u001b[0msuper\u001b[0m\u001b[0;34m(\u001b[0m\u001b[0mBaseWordEmbeddingsModel\u001b[0m\u001b[0;34m,\u001b[0m \u001b[0mcls\u001b[0m\u001b[0;34m)\u001b[0m\u001b[0;34m.\u001b[0m\u001b[0mload\u001b[0m\u001b[0;34m(\u001b[0m\u001b[0;34m*\u001b[0m\u001b[0margs\u001b[0m\u001b[0;34m,\u001b[0m \u001b[0;34m**\u001b[0m\u001b[0mkwargs\u001b[0m\u001b[0;34m)\u001b[0m\u001b[0;34m\u001b[0m\u001b[0;34m\u001b[0m\u001b[0m\n\u001b[0m\u001b[1;32m   1245\u001b[0m         \u001b[0;32mif\u001b[0m \u001b[0;32mnot\u001b[0m \u001b[0mhasattr\u001b[0m\u001b[0;34m(\u001b[0m\u001b[0mmodel\u001b[0m\u001b[0;34m,\u001b[0m \u001b[0;34m'ns_exponent'\u001b[0m\u001b[0;34m)\u001b[0m\u001b[0;34m:\u001b[0m\u001b[0;34m\u001b[0m\u001b[0;34m\u001b[0m\u001b[0m\n",
            "\u001b[0;32m/usr/local/lib/python3.7/dist-packages/gensim/models/base_any2vec.py\u001b[0m in \u001b[0;36mload\u001b[0;34m(cls, fname_or_handle, **kwargs)\u001b[0m\n\u001b[1;32m    602\u001b[0m         \"\"\"\n\u001b[0;32m--> 603\u001b[0;31m         \u001b[0;32mreturn\u001b[0m \u001b[0msuper\u001b[0m\u001b[0;34m(\u001b[0m\u001b[0mBaseAny2VecModel\u001b[0m\u001b[0;34m,\u001b[0m \u001b[0mcls\u001b[0m\u001b[0;34m)\u001b[0m\u001b[0;34m.\u001b[0m\u001b[0mload\u001b[0m\u001b[0;34m(\u001b[0m\u001b[0mfname_or_handle\u001b[0m\u001b[0;34m,\u001b[0m \u001b[0;34m**\u001b[0m\u001b[0mkwargs\u001b[0m\u001b[0;34m)\u001b[0m\u001b[0;34m\u001b[0m\u001b[0;34m\u001b[0m\u001b[0m\n\u001b[0m\u001b[1;32m    604\u001b[0m \u001b[0;34m\u001b[0m\u001b[0m\n",
            "\u001b[0;32m/usr/local/lib/python3.7/dist-packages/gensim/utils.py\u001b[0m in \u001b[0;36mload\u001b[0;34m(cls, fname, mmap)\u001b[0m\n\u001b[1;32m    421\u001b[0m \u001b[0;34m\u001b[0m\u001b[0m\n\u001b[0;32m--> 422\u001b[0;31m         \u001b[0mobj\u001b[0m \u001b[0;34m=\u001b[0m \u001b[0munpickle\u001b[0m\u001b[0;34m(\u001b[0m\u001b[0mfname\u001b[0m\u001b[0;34m)\u001b[0m\u001b[0;34m\u001b[0m\u001b[0;34m\u001b[0m\u001b[0m\n\u001b[0m\u001b[1;32m    423\u001b[0m         \u001b[0mobj\u001b[0m\u001b[0;34m.\u001b[0m\u001b[0m_load_specials\u001b[0m\u001b[0;34m(\u001b[0m\u001b[0mfname\u001b[0m\u001b[0;34m,\u001b[0m \u001b[0mmmap\u001b[0m\u001b[0;34m,\u001b[0m \u001b[0mcompress\u001b[0m\u001b[0;34m,\u001b[0m \u001b[0msubname\u001b[0m\u001b[0;34m)\u001b[0m\u001b[0;34m\u001b[0m\u001b[0;34m\u001b[0m\u001b[0m\n",
            "\u001b[0;32m/usr/local/lib/python3.7/dist-packages/gensim/utils.py\u001b[0m in \u001b[0;36munpickle\u001b[0;34m(fname)\u001b[0m\n\u001b[1;32m   1357\u001b[0m     \"\"\"\n\u001b[0;32m-> 1358\u001b[0;31m     \u001b[0;32mwith\u001b[0m \u001b[0msmart_open\u001b[0m\u001b[0;34m(\u001b[0m\u001b[0mfname\u001b[0m\u001b[0;34m,\u001b[0m \u001b[0;34m'rb'\u001b[0m\u001b[0;34m)\u001b[0m \u001b[0;32mas\u001b[0m \u001b[0mf\u001b[0m\u001b[0;34m:\u001b[0m\u001b[0;34m\u001b[0m\u001b[0;34m\u001b[0m\u001b[0m\n\u001b[0m\u001b[1;32m   1359\u001b[0m         \u001b[0;31m# Because of loading from S3 load can't be used (missing readline in smart_open)\u001b[0m\u001b[0;34m\u001b[0m\u001b[0;34m\u001b[0m\u001b[0;34m\u001b[0m\u001b[0m\n",
            "\u001b[0;32m/usr/local/lib/python3.7/dist-packages/smart_open/smart_open_lib.py\u001b[0m in \u001b[0;36msmart_open\u001b[0;34m(***failed resolving arguments***)\u001b[0m\n\u001b[1;32m    482\u001b[0m     \u001b[0;32mdel\u001b[0m \u001b[0mkwargs\u001b[0m\u001b[0;34m,\u001b[0m \u001b[0murl\u001b[0m\u001b[0;34m,\u001b[0m \u001b[0mmessage\u001b[0m\u001b[0;34m,\u001b[0m \u001b[0mignore_extension\u001b[0m\u001b[0;34m\u001b[0m\u001b[0;34m\u001b[0m\u001b[0m\n\u001b[0;32m--> 483\u001b[0;31m     \u001b[0;32mreturn\u001b[0m \u001b[0mopen\u001b[0m\u001b[0;34m(\u001b[0m\u001b[0;34m**\u001b[0m\u001b[0mlocals\u001b[0m\u001b[0;34m(\u001b[0m\u001b[0;34m)\u001b[0m\u001b[0;34m)\u001b[0m\u001b[0;34m\u001b[0m\u001b[0;34m\u001b[0m\u001b[0m\n\u001b[0m\u001b[1;32m    484\u001b[0m \u001b[0;34m\u001b[0m\u001b[0m\n",
            "\u001b[0;32m/usr/local/lib/python3.7/dist-packages/smart_open/smart_open_lib.py\u001b[0m in \u001b[0;36mopen\u001b[0;34m(uri, mode, buffering, encoding, errors, newline, closefd, opener, ignore_ext, transport_params)\u001b[0m\n\u001b[1;32m    180\u001b[0m         \u001b[0merrors\u001b[0m\u001b[0;34m=\u001b[0m\u001b[0merrors\u001b[0m\u001b[0;34m,\u001b[0m\u001b[0;34m\u001b[0m\u001b[0;34m\u001b[0m\u001b[0m\n\u001b[0;32m--> 181\u001b[0;31m         \u001b[0mnewline\u001b[0m\u001b[0;34m=\u001b[0m\u001b[0mnewline\u001b[0m\u001b[0;34m,\u001b[0m\u001b[0;34m\u001b[0m\u001b[0;34m\u001b[0m\u001b[0m\n\u001b[0m\u001b[1;32m    182\u001b[0m     )\n",
            "\u001b[0;32m/usr/local/lib/python3.7/dist-packages/smart_open/smart_open_lib.py\u001b[0m in \u001b[0;36m_shortcut_open\u001b[0;34m(uri, mode, ignore_ext, buffering, encoding, errors, newline)\u001b[0m\n\u001b[1;32m    345\u001b[0m \u001b[0;34m\u001b[0m\u001b[0m\n\u001b[0;32m--> 346\u001b[0;31m     \u001b[0;32mreturn\u001b[0m \u001b[0m_builtin_open\u001b[0m\u001b[0;34m(\u001b[0m\u001b[0mlocal_path\u001b[0m\u001b[0;34m,\u001b[0m \u001b[0mmode\u001b[0m\u001b[0;34m,\u001b[0m \u001b[0mbuffering\u001b[0m\u001b[0;34m=\u001b[0m\u001b[0mbuffering\u001b[0m\u001b[0;34m,\u001b[0m \u001b[0;34m**\u001b[0m\u001b[0mopen_kwargs\u001b[0m\u001b[0;34m)\u001b[0m\u001b[0;34m\u001b[0m\u001b[0;34m\u001b[0m\u001b[0m\n\u001b[0m\u001b[1;32m    347\u001b[0m \u001b[0;34m\u001b[0m\u001b[0m\n",
            "\u001b[0;31mFileNotFoundError\u001b[0m: [Errno 2] No such file or directory: 'food_embedding.model'",
            "\nDuring handling of the above exception, another exception occurred:\n",
            "\u001b[0;31mTypeError\u001b[0m                                 Traceback (most recent call last)",
            "\u001b[0;32m<ipython-input-126-b9c9740ff58e>\u001b[0m in \u001b[0;36m<module>\u001b[0;34m()\u001b[0m\n\u001b[1;32m      8\u001b[0m     \u001b[0;32mif\u001b[0m \u001b[0mTRAIN_W2V\u001b[0m\u001b[0;34m:\u001b[0m\u001b[0;34m\u001b[0m\u001b[0;34m\u001b[0m\u001b[0m\n\u001b[1;32m      9\u001b[0m         \u001b[0mprint\u001b[0m\u001b[0;34m(\u001b[0m\u001b[0;34m\"Training w2v\"\u001b[0m\u001b[0;34m)\u001b[0m\u001b[0;34m\u001b[0m\u001b[0;34m\u001b[0m\u001b[0m\n\u001b[0;32m---> 10\u001b[0;31m         \u001b[0mmodel\u001b[0m \u001b[0;34m=\u001b[0m \u001b[0mWord2Vec\u001b[0m\u001b[0;34m(\u001b[0m\u001b[0msentences\u001b[0m\u001b[0;34m=\u001b[0m\u001b[0mfood_combinations\u001b[0m\u001b[0;34m,\u001b[0m \u001b[0mvector_size\u001b[0m\u001b[0;34m=\u001b[0m\u001b[0margs\u001b[0m\u001b[0;34m.\u001b[0m\u001b[0memb_dim\u001b[0m\u001b[0;34m,\u001b[0m \u001b[0mwindow\u001b[0m\u001b[0;34m=\u001b[0m\u001b[0;36m7\u001b[0m\u001b[0;34m,\u001b[0m \u001b[0mmin_count\u001b[0m\u001b[0;34m=\u001b[0m\u001b[0;36m0\u001b[0m\u001b[0;34m,\u001b[0m \u001b[0mworkers\u001b[0m\u001b[0;34m=\u001b[0m\u001b[0;36m4\u001b[0m\u001b[0;34m,\u001b[0m \u001b[0msg\u001b[0m\u001b[0;34m=\u001b[0m\u001b[0;36m0\u001b[0m\u001b[0;34m,\u001b[0m \u001b[0mepochs\u001b[0m\u001b[0;34m=\u001b[0m\u001b[0;36m5000\u001b[0m\u001b[0;34m)\u001b[0m\u001b[0;34m\u001b[0m\u001b[0;34m\u001b[0m\u001b[0m\n\u001b[0m\u001b[1;32m     11\u001b[0m         \u001b[0mmodel\u001b[0m\u001b[0;34m.\u001b[0m\u001b[0msave\u001b[0m\u001b[0;34m(\u001b[0m\u001b[0;34m'food_embedding.model'\u001b[0m\u001b[0;34m)\u001b[0m\u001b[0;34m\u001b[0m\u001b[0;34m\u001b[0m\u001b[0m\n\u001b[1;32m     12\u001b[0m     \u001b[0;32melse\u001b[0m\u001b[0;34m:\u001b[0m\u001b[0;34m\u001b[0m\u001b[0;34m\u001b[0m\u001b[0m\n",
            "\u001b[0;31mTypeError\u001b[0m: __init__() got an unexpected keyword argument 'vector_size'"
          ]
        }
      ]
    },
    {
      "cell_type": "code",
      "metadata": {
        "colab": {
          "base_uri": "https://localhost:8080/",
          "height": 181
        },
        "id": "RwqSP3xhqrFE",
        "outputId": "42d39766-77d4-4507-830d-e876f0356f42"
      },
      "source": [
        "# w2v demo\n",
        "model.wv.most_similar('된장찌개')"
      ],
      "execution_count": 125,
      "outputs": [
        {
          "output_type": "error",
          "ename": "NameError",
          "evalue": "ignored",
          "traceback": [
            "\u001b[0;31m---------------------------------------------------------------------------\u001b[0m",
            "\u001b[0;31mNameError\u001b[0m                                 Traceback (most recent call last)",
            "\u001b[0;32m<ipython-input-125-697020c14f94>\u001b[0m in \u001b[0;36m<module>\u001b[0;34m()\u001b[0m\n\u001b[1;32m      1\u001b[0m \u001b[0;31m# w2v demo\u001b[0m\u001b[0;34m\u001b[0m\u001b[0;34m\u001b[0m\u001b[0;34m\u001b[0m\u001b[0m\n\u001b[0;32m----> 2\u001b[0;31m \u001b[0mmodel\u001b[0m\u001b[0;34m.\u001b[0m\u001b[0mwv\u001b[0m\u001b[0;34m.\u001b[0m\u001b[0mmost_similar\u001b[0m\u001b[0;34m(\u001b[0m\u001b[0;34m'된장찌개'\u001b[0m\u001b[0;34m)\u001b[0m\u001b[0;34m\u001b[0m\u001b[0;34m\u001b[0m\u001b[0m\n\u001b[0m",
            "\u001b[0;31mNameError\u001b[0m: name 'model' is not defined"
          ]
        }
      ]
    },
    {
      "cell_type": "markdown",
      "metadata": {
        "id": "Qo_oEuk9uj4V"
      },
      "source": [
        "## 요일을 숫자로 매핑"
      ]
    },
    {
      "cell_type": "code",
      "metadata": {
        "id": "EOJyo3MNuj4W"
      },
      "source": [
        "train['요일'] = train['요일'].map({'월':0, '화':1, '수':2, '목':3, '금':4})\n",
        "test['요일'] = test['요일'].map({'월':0, '화':1, '수':2, '목':3, '금':4})"
      ],
      "execution_count": 17,
      "outputs": []
    },
    {
      "cell_type": "markdown",
      "metadata": {
        "id": "Y4fjKBVAuj4W"
      },
      "source": [
        "## 수치 데이터만 피쳐로 선택"
      ]
    },
    {
      "cell_type": "code",
      "metadata": {
        "id": "1jprSqmJuj4W"
      },
      "source": [
        "x_train = train[['요일', '본사정원수', '본사출장자수', '본사시간외근무명령서승인건수', '현본사소속재택근무자수']]\n",
        "y1_train = train['중식계']\n",
        "y2_train = train['석식계']\n",
        "\n",
        "x_test = test[['요일', '본사정원수', '본사출장자수', '본사시간외근무명령서승인건수', '현본사소속재택근무자수']]"
      ],
      "execution_count": 18,
      "outputs": []
    },
    {
      "cell_type": "code",
      "metadata": {
        "id": "19zRAelR2Au_"
      },
      "source": [
        "model_dict = {\n",
        "    'linear':LinearRegression(), \n",
        "    'rf':RandomForestRegressor(random_state=42,n_jobs=-1),\n",
        "    'lgbm':lgb.LGBMRegressor(random_state=42),\n",
        "    'TF': tf.keras.models.Sequential([\n",
        "            tf.keras.layers.Dense(units=64,activation='relu'),\n",
        "            tf.keras.layers.Dense(units=64, activation='relu'),\n",
        "            tf.keras.layers.Dense(units=64, activation='relu'),\n",
        "            tf.keras.layers.Dense(units=64, activation='relu'),\n",
        "            tf.keras.layers.Dense(units=1)             \n",
        "    ])\n",
        "}"
      ],
      "execution_count": 93,
      "outputs": []
    },
    {
      "cell_type": "code",
      "metadata": {
        "colab": {
          "base_uri": "https://localhost:8080/"
        },
        "id": "eS1mxsNP2Tj9",
        "outputId": "3e93949d-5cc5-41d5-8455-a8289b0eff4f"
      },
      "source": [
        "model_dict.keys()"
      ],
      "execution_count": 94,
      "outputs": [
        {
          "output_type": "execute_result",
          "data": {
            "text/plain": [
              "dict_keys(['linear', 'rf', 'lgbm', 'TF'])"
            ]
          },
          "metadata": {
            "tags": []
          },
          "execution_count": 94
        }
      ]
    },
    {
      "cell_type": "markdown",
      "metadata": {
        "id": "l--WNuSPuj4W"
      },
      "source": [
        "## 점심과 저녁을 식수 인원을 예측할 2개 모델 생성"
      ]
    },
    {
      "cell_type": "code",
      "metadata": {
        "id": "Mt34V9uHuj4X"
      },
      "source": [
        "model1 = model_dict['TF']\n",
        "model2 = model_dict['TF']"
      ],
      "execution_count": 95,
      "outputs": []
    },
    {
      "cell_type": "code",
      "metadata": {
        "id": "y-Gk5VnjjqK9"
      },
      "source": [
        "model1.compile(optimizer=tf.keras.optimizers.Adam(learning_rate=0.001, beta_1=0.9, beta_2=0.999, epsilon=None, decay=0.0, amsgrad=False),loss=tf.losses.MeanSquaredError(), metrics = [tf.metrics.MeanAbsoluteError(), tf.metrics.RootMeanSquaredError()])\n",
        "model2.compile(optimizer=tf.keras.optimizers.Adam(learning_rate=0.001, beta_1=0.9, beta_2=0.999, epsilon=None, decay=0.0, amsgrad=False),loss=tf.losses.MeanSquaredError(), metrics = [tf.metrics.MeanAbsoluteError(), tf.metrics.RootMeanSquaredError()])"
      ],
      "execution_count": 96,
      "outputs": []
    },
    {
      "cell_type": "markdown",
      "metadata": {
        "id": "KvtEbcL5uj4X"
      },
      "source": [
        "## 학습"
      ]
    },
    {
      "cell_type": "code",
      "metadata": {
        "colab": {
          "base_uri": "https://localhost:8080/"
        },
        "id": "WPrs92cxjFO7",
        "outputId": "395d1b48-4237-45c8-f726-aebc144ba9df"
      },
      "source": [
        "#tf 학습\n",
        "model1.fit(x_train, y1_train,epochs=100,verbose=1)"
      ],
      "execution_count": 97,
      "outputs": [
        {
          "output_type": "stream",
          "text": [
            "Epoch 1/100\n",
            "38/38 [==============================] - 1s 3ms/step - loss: 89873.0391 - mean_absolute_error: 232.9600 - root_mean_squared_error: 299.7883\n",
            "Epoch 2/100\n",
            "38/38 [==============================] - 0s 3ms/step - loss: 40891.6562 - mean_absolute_error: 163.3940 - root_mean_squared_error: 202.2169\n",
            "Epoch 3/100\n",
            "38/38 [==============================] - 0s 3ms/step - loss: 38085.1719 - mean_absolute_error: 158.3064 - root_mean_squared_error: 195.1542\n",
            "Epoch 4/100\n",
            "38/38 [==============================] - 0s 3ms/step - loss: 37727.4531 - mean_absolute_error: 157.4930 - root_mean_squared_error: 194.2356\n",
            "Epoch 5/100\n",
            "38/38 [==============================] - 0s 3ms/step - loss: 37406.5234 - mean_absolute_error: 156.9888 - root_mean_squared_error: 193.4077\n",
            "Epoch 6/100\n",
            "38/38 [==============================] - 0s 3ms/step - loss: 37446.1562 - mean_absolute_error: 156.2335 - root_mean_squared_error: 193.5101\n",
            "Epoch 7/100\n",
            "38/38 [==============================] - 0s 3ms/step - loss: 38211.4023 - mean_absolute_error: 157.4864 - root_mean_squared_error: 195.4774\n",
            "Epoch 8/100\n",
            "38/38 [==============================] - 0s 3ms/step - loss: 35962.6445 - mean_absolute_error: 153.0950 - root_mean_squared_error: 189.6382\n",
            "Epoch 9/100\n",
            "38/38 [==============================] - 0s 3ms/step - loss: 35552.0352 - mean_absolute_error: 152.3123 - root_mean_squared_error: 188.5525\n",
            "Epoch 10/100\n",
            "38/38 [==============================] - 0s 3ms/step - loss: 35530.4805 - mean_absolute_error: 151.9875 - root_mean_squared_error: 188.4953\n",
            "Epoch 11/100\n",
            "38/38 [==============================] - 0s 3ms/step - loss: 36335.2188 - mean_absolute_error: 154.4876 - root_mean_squared_error: 190.6180\n",
            "Epoch 12/100\n",
            "38/38 [==============================] - 0s 3ms/step - loss: 36194.8750 - mean_absolute_error: 153.8645 - root_mean_squared_error: 190.2495\n",
            "Epoch 13/100\n",
            "38/38 [==============================] - 0s 3ms/step - loss: 35030.7500 - mean_absolute_error: 150.6652 - root_mean_squared_error: 187.1650\n",
            "Epoch 14/100\n",
            "38/38 [==============================] - 0s 3ms/step - loss: 35517.7500 - mean_absolute_error: 151.5177 - root_mean_squared_error: 188.4615\n",
            "Epoch 15/100\n",
            "38/38 [==============================] - 0s 3ms/step - loss: 36497.6328 - mean_absolute_error: 153.6088 - root_mean_squared_error: 191.0435\n",
            "Epoch 16/100\n",
            "38/38 [==============================] - 0s 3ms/step - loss: 34631.7539 - mean_absolute_error: 150.0952 - root_mean_squared_error: 186.0961\n",
            "Epoch 17/100\n",
            "38/38 [==============================] - 0s 3ms/step - loss: 34245.7109 - mean_absolute_error: 149.4532 - root_mean_squared_error: 185.0560\n",
            "Epoch 18/100\n",
            "38/38 [==============================] - 0s 3ms/step - loss: 34516.2305 - mean_absolute_error: 149.5415 - root_mean_squared_error: 185.7854\n",
            "Epoch 19/100\n",
            "38/38 [==============================] - 0s 3ms/step - loss: 34948.7969 - mean_absolute_error: 150.9056 - root_mean_squared_error: 186.9460\n",
            "Epoch 20/100\n",
            "38/38 [==============================] - 0s 3ms/step - loss: 35071.1172 - mean_absolute_error: 150.8386 - root_mean_squared_error: 187.2728\n",
            "Epoch 21/100\n",
            "38/38 [==============================] - 0s 3ms/step - loss: 35206.5625 - mean_absolute_error: 150.9404 - root_mean_squared_error: 187.6341\n",
            "Epoch 22/100\n",
            "38/38 [==============================] - 0s 3ms/step - loss: 35297.0508 - mean_absolute_error: 150.0478 - root_mean_squared_error: 187.8751\n",
            "Epoch 23/100\n",
            "38/38 [==============================] - 0s 3ms/step - loss: 34652.3398 - mean_absolute_error: 149.8889 - root_mean_squared_error: 186.1514\n",
            "Epoch 24/100\n",
            "38/38 [==============================] - 0s 3ms/step - loss: 33858.6406 - mean_absolute_error: 148.8009 - root_mean_squared_error: 184.0072\n",
            "Epoch 25/100\n",
            "38/38 [==============================] - 0s 3ms/step - loss: 35306.3750 - mean_absolute_error: 150.1552 - root_mean_squared_error: 187.8999\n",
            "Epoch 26/100\n",
            "38/38 [==============================] - 0s 3ms/step - loss: 34133.9062 - mean_absolute_error: 148.4465 - root_mean_squared_error: 184.7536\n",
            "Epoch 27/100\n",
            "38/38 [==============================] - 0s 3ms/step - loss: 34871.9922 - mean_absolute_error: 149.1965 - root_mean_squared_error: 186.7404\n",
            "Epoch 28/100\n",
            "38/38 [==============================] - 0s 3ms/step - loss: 33378.0742 - mean_absolute_error: 146.1245 - root_mean_squared_error: 182.6967\n",
            "Epoch 29/100\n",
            "38/38 [==============================] - 0s 3ms/step - loss: 33645.3281 - mean_absolute_error: 146.7229 - root_mean_squared_error: 183.4266\n",
            "Epoch 30/100\n",
            "38/38 [==============================] - 0s 3ms/step - loss: 33265.7422 - mean_absolute_error: 146.4037 - root_mean_squared_error: 182.3890\n",
            "Epoch 31/100\n",
            "38/38 [==============================] - 0s 3ms/step - loss: 33392.4805 - mean_absolute_error: 146.4477 - root_mean_squared_error: 182.7361\n",
            "Epoch 32/100\n",
            "38/38 [==============================] - 0s 3ms/step - loss: 34024.0352 - mean_absolute_error: 147.8678 - root_mean_squared_error: 184.4561\n",
            "Epoch 33/100\n",
            "38/38 [==============================] - 0s 3ms/step - loss: 33253.7305 - mean_absolute_error: 146.1332 - root_mean_squared_error: 182.3560\n",
            "Epoch 34/100\n",
            "38/38 [==============================] - 0s 3ms/step - loss: 33354.0664 - mean_absolute_error: 147.3101 - root_mean_squared_error: 182.6310\n",
            "Epoch 35/100\n",
            "38/38 [==============================] - 0s 3ms/step - loss: 33341.5625 - mean_absolute_error: 145.9329 - root_mean_squared_error: 182.5967\n",
            "Epoch 36/100\n",
            "38/38 [==============================] - 0s 3ms/step - loss: 33067.9219 - mean_absolute_error: 145.4369 - root_mean_squared_error: 181.8459\n",
            "Epoch 37/100\n",
            "38/38 [==============================] - 0s 3ms/step - loss: 32457.2246 - mean_absolute_error: 144.6284 - root_mean_squared_error: 180.1589\n",
            "Epoch 38/100\n",
            "38/38 [==============================] - 0s 3ms/step - loss: 32502.5762 - mean_absolute_error: 145.4669 - root_mean_squared_error: 180.2847\n",
            "Epoch 39/100\n",
            "38/38 [==============================] - 0s 3ms/step - loss: 33320.4180 - mean_absolute_error: 145.6901 - root_mean_squared_error: 182.5388\n",
            "Epoch 40/100\n",
            "38/38 [==============================] - 0s 3ms/step - loss: 34391.0820 - mean_absolute_error: 148.7094 - root_mean_squared_error: 185.4483\n",
            "Epoch 41/100\n",
            "38/38 [==============================] - 0s 3ms/step - loss: 32663.5547 - mean_absolute_error: 145.4229 - root_mean_squared_error: 180.7306\n",
            "Epoch 42/100\n",
            "38/38 [==============================] - 0s 3ms/step - loss: 32375.8242 - mean_absolute_error: 144.8981 - root_mean_squared_error: 179.9328\n",
            "Epoch 43/100\n",
            "38/38 [==============================] - 0s 3ms/step - loss: 32575.9297 - mean_absolute_error: 143.8896 - root_mean_squared_error: 180.4880\n",
            "Epoch 44/100\n",
            "38/38 [==============================] - 0s 3ms/step - loss: 32385.4863 - mean_absolute_error: 143.9207 - root_mean_squared_error: 179.9597\n",
            "Epoch 45/100\n",
            "38/38 [==============================] - 0s 3ms/step - loss: 31801.8926 - mean_absolute_error: 143.2671 - root_mean_squared_error: 178.3309\n",
            "Epoch 46/100\n",
            "38/38 [==============================] - 0s 3ms/step - loss: 32558.7012 - mean_absolute_error: 144.6309 - root_mean_squared_error: 180.4403\n",
            "Epoch 47/100\n",
            "38/38 [==============================] - 0s 3ms/step - loss: 31225.4766 - mean_absolute_error: 141.8494 - root_mean_squared_error: 176.7073\n",
            "Epoch 48/100\n",
            "38/38 [==============================] - 0s 3ms/step - loss: 31250.0078 - mean_absolute_error: 141.2104 - root_mean_squared_error: 176.7767\n",
            "Epoch 49/100\n",
            "38/38 [==============================] - 0s 3ms/step - loss: 31322.3398 - mean_absolute_error: 141.3939 - root_mean_squared_error: 176.9812\n",
            "Epoch 50/100\n",
            "38/38 [==============================] - 0s 3ms/step - loss: 32005.5371 - mean_absolute_error: 143.1094 - root_mean_squared_error: 178.9009\n",
            "Epoch 51/100\n",
            "38/38 [==============================] - 0s 3ms/step - loss: 30871.5684 - mean_absolute_error: 140.4693 - root_mean_squared_error: 175.7031\n",
            "Epoch 52/100\n",
            "38/38 [==============================] - 0s 3ms/step - loss: 30874.4160 - mean_absolute_error: 140.2605 - root_mean_squared_error: 175.7112\n",
            "Epoch 53/100\n",
            "38/38 [==============================] - 0s 3ms/step - loss: 31764.9102 - mean_absolute_error: 142.3149 - root_mean_squared_error: 178.2271\n",
            "Epoch 54/100\n",
            "38/38 [==============================] - 0s 3ms/step - loss: 31519.2070 - mean_absolute_error: 142.2706 - root_mean_squared_error: 177.5365\n",
            "Epoch 55/100\n",
            "38/38 [==============================] - 0s 3ms/step - loss: 30608.6270 - mean_absolute_error: 139.7618 - root_mean_squared_error: 174.9532\n",
            "Epoch 56/100\n",
            "38/38 [==============================] - 0s 3ms/step - loss: 30633.5312 - mean_absolute_error: 140.1580 - root_mean_squared_error: 175.0244\n",
            "Epoch 57/100\n",
            "38/38 [==============================] - 0s 3ms/step - loss: 30739.7578 - mean_absolute_error: 140.4314 - root_mean_squared_error: 175.3276\n",
            "Epoch 58/100\n",
            "38/38 [==============================] - 0s 3ms/step - loss: 31343.0000 - mean_absolute_error: 140.8984 - root_mean_squared_error: 177.0396\n",
            "Epoch 59/100\n",
            "38/38 [==============================] - 0s 3ms/step - loss: 32251.0508 - mean_absolute_error: 144.2611 - root_mean_squared_error: 179.5858\n",
            "Epoch 60/100\n",
            "38/38 [==============================] - 0s 3ms/step - loss: 30211.8770 - mean_absolute_error: 137.9810 - root_mean_squared_error: 173.8156\n",
            "Epoch 61/100\n",
            "38/38 [==============================] - 0s 3ms/step - loss: 30966.6582 - mean_absolute_error: 140.2221 - root_mean_squared_error: 175.9735\n",
            "Epoch 62/100\n",
            "38/38 [==============================] - 0s 3ms/step - loss: 29782.1250 - mean_absolute_error: 137.1743 - root_mean_squared_error: 172.5750\n",
            "Epoch 63/100\n",
            "38/38 [==============================] - 0s 3ms/step - loss: 29441.4336 - mean_absolute_error: 137.0076 - root_mean_squared_error: 171.5851\n",
            "Epoch 64/100\n",
            "38/38 [==============================] - 0s 3ms/step - loss: 30242.5254 - mean_absolute_error: 137.8797 - root_mean_squared_error: 173.9038\n",
            "Epoch 65/100\n",
            "38/38 [==============================] - 0s 3ms/step - loss: 30511.3730 - mean_absolute_error: 139.2008 - root_mean_squared_error: 174.6750\n",
            "Epoch 66/100\n",
            "38/38 [==============================] - 0s 3ms/step - loss: 29893.5996 - mean_absolute_error: 137.2539 - root_mean_squared_error: 172.8977\n",
            "Epoch 67/100\n",
            "38/38 [==============================] - 0s 3ms/step - loss: 31340.5273 - mean_absolute_error: 140.7183 - root_mean_squared_error: 177.0326\n",
            "Epoch 68/100\n",
            "38/38 [==============================] - 0s 3ms/step - loss: 31046.2266 - mean_absolute_error: 140.8467 - root_mean_squared_error: 176.1994\n",
            "Epoch 69/100\n",
            "38/38 [==============================] - 0s 3ms/step - loss: 30079.9473 - mean_absolute_error: 138.3778 - root_mean_squared_error: 173.4357\n",
            "Epoch 70/100\n",
            "38/38 [==============================] - 0s 3ms/step - loss: 30148.2285 - mean_absolute_error: 138.4322 - root_mean_squared_error: 173.6324\n",
            "Epoch 71/100\n",
            "38/38 [==============================] - 0s 3ms/step - loss: 29260.4980 - mean_absolute_error: 136.2357 - root_mean_squared_error: 171.0570\n",
            "Epoch 72/100\n",
            "38/38 [==============================] - 0s 3ms/step - loss: 29126.5020 - mean_absolute_error: 135.8931 - root_mean_squared_error: 170.6649\n",
            "Epoch 73/100\n",
            "38/38 [==============================] - 0s 3ms/step - loss: 29527.0137 - mean_absolute_error: 135.7934 - root_mean_squared_error: 171.8343\n",
            "Epoch 74/100\n",
            "38/38 [==============================] - 0s 3ms/step - loss: 30863.8379 - mean_absolute_error: 139.9024 - root_mean_squared_error: 175.6811\n",
            "Epoch 75/100\n",
            "38/38 [==============================] - 0s 3ms/step - loss: 29766.5293 - mean_absolute_error: 137.4854 - root_mean_squared_error: 172.5298\n",
            "Epoch 76/100\n",
            "38/38 [==============================] - 0s 3ms/step - loss: 29940.6348 - mean_absolute_error: 137.5209 - root_mean_squared_error: 173.0336\n",
            "Epoch 77/100\n",
            "38/38 [==============================] - 0s 3ms/step - loss: 28259.4297 - mean_absolute_error: 133.7486 - root_mean_squared_error: 168.1054\n",
            "Epoch 78/100\n",
            "38/38 [==============================] - 0s 3ms/step - loss: 28979.9434 - mean_absolute_error: 135.3482 - root_mean_squared_error: 170.2350\n",
            "Epoch 79/100\n",
            "38/38 [==============================] - 0s 3ms/step - loss: 28044.5371 - mean_absolute_error: 133.3997 - root_mean_squared_error: 167.4650\n",
            "Epoch 80/100\n",
            "38/38 [==============================] - 0s 3ms/step - loss: 28356.6699 - mean_absolute_error: 133.8981 - root_mean_squared_error: 168.3944\n",
            "Epoch 81/100\n",
            "38/38 [==============================] - 0s 3ms/step - loss: 28934.5488 - mean_absolute_error: 134.5246 - root_mean_squared_error: 170.1016\n",
            "Epoch 82/100\n",
            "38/38 [==============================] - 0s 3ms/step - loss: 28168.6133 - mean_absolute_error: 134.2343 - root_mean_squared_error: 167.8351\n",
            "Epoch 83/100\n",
            "38/38 [==============================] - 0s 3ms/step - loss: 27956.6875 - mean_absolute_error: 133.0915 - root_mean_squared_error: 167.2025\n",
            "Epoch 84/100\n",
            "38/38 [==============================] - 0s 3ms/step - loss: 28129.9023 - mean_absolute_error: 133.2761 - root_mean_squared_error: 167.7197\n",
            "Epoch 85/100\n",
            "38/38 [==============================] - 0s 3ms/step - loss: 27715.6055 - mean_absolute_error: 131.7615 - root_mean_squared_error: 166.4800\n",
            "Epoch 86/100\n",
            "38/38 [==============================] - 0s 3ms/step - loss: 28646.3594 - mean_absolute_error: 134.0821 - root_mean_squared_error: 169.2523\n",
            "Epoch 87/100\n",
            "38/38 [==============================] - 0s 3ms/step - loss: 28302.5664 - mean_absolute_error: 132.7967 - root_mean_squared_error: 168.2337\n",
            "Epoch 88/100\n",
            "38/38 [==============================] - 0s 3ms/step - loss: 27992.7129 - mean_absolute_error: 133.3019 - root_mean_squared_error: 167.3102\n",
            "Epoch 89/100\n",
            "38/38 [==============================] - 0s 3ms/step - loss: 27418.6387 - mean_absolute_error: 131.2676 - root_mean_squared_error: 165.5857\n",
            "Epoch 90/100\n",
            "38/38 [==============================] - 0s 3ms/step - loss: 26962.2148 - mean_absolute_error: 129.5907 - root_mean_squared_error: 164.2018\n",
            "Epoch 91/100\n",
            "38/38 [==============================] - 0s 3ms/step - loss: 26660.8809 - mean_absolute_error: 129.5402 - root_mean_squared_error: 163.2816\n",
            "Epoch 92/100\n",
            "38/38 [==============================] - 0s 3ms/step - loss: 26677.0293 - mean_absolute_error: 129.9157 - root_mean_squared_error: 163.3310\n",
            "Epoch 93/100\n",
            "38/38 [==============================] - 0s 3ms/step - loss: 28730.0977 - mean_absolute_error: 135.0739 - root_mean_squared_error: 169.4996\n",
            "Epoch 94/100\n",
            "38/38 [==============================] - 0s 3ms/step - loss: 27141.2441 - mean_absolute_error: 130.2942 - root_mean_squared_error: 164.7460\n",
            "Epoch 95/100\n",
            "38/38 [==============================] - 0s 3ms/step - loss: 28422.8574 - mean_absolute_error: 133.0853 - root_mean_squared_error: 168.5908\n",
            "Epoch 96/100\n",
            "38/38 [==============================] - 0s 3ms/step - loss: 26246.4023 - mean_absolute_error: 129.4790 - root_mean_squared_error: 162.0074\n",
            "Epoch 97/100\n",
            "38/38 [==============================] - 0s 3ms/step - loss: 28068.8457 - mean_absolute_error: 134.1338 - root_mean_squared_error: 167.5376\n",
            "Epoch 98/100\n",
            "38/38 [==============================] - 0s 3ms/step - loss: 26656.2793 - mean_absolute_error: 129.3460 - root_mean_squared_error: 163.2675\n",
            "Epoch 99/100\n",
            "38/38 [==============================] - 0s 3ms/step - loss: 26185.4316 - mean_absolute_error: 128.7038 - root_mean_squared_error: 161.8191\n",
            "Epoch 100/100\n",
            "38/38 [==============================] - 0s 3ms/step - loss: 26620.4160 - mean_absolute_error: 129.5845 - root_mean_squared_error: 163.1576\n"
          ],
          "name": "stdout"
        },
        {
          "output_type": "execute_result",
          "data": {
            "text/plain": [
              "<tensorflow.python.keras.callbacks.History at 0x7fa3c0d7ce10>"
            ]
          },
          "metadata": {
            "tags": []
          },
          "execution_count": 97
        }
      ]
    },
    {
      "cell_type": "code",
      "metadata": {
        "colab": {
          "base_uri": "https://localhost:8080/"
        },
        "id": "5_3W7PcKmoce",
        "outputId": "6ec6859f-621a-4db6-eb51-0fb68b168782"
      },
      "source": [
        "model2.fit(x_train, y2_train,epochs=100,verbose=1)"
      ],
      "execution_count": 98,
      "outputs": [
        {
          "output_type": "stream",
          "text": [
            "Epoch 1/100\n",
            "38/38 [==============================] - 0s 3ms/step - loss: 33695.5898 - mean_absolute_error: 136.7238 - root_mean_squared_error: 183.5636\n",
            "Epoch 2/100\n",
            "38/38 [==============================] - 0s 3ms/step - loss: 14093.3291 - mean_absolute_error: 85.8835 - root_mean_squared_error: 118.7153\n",
            "Epoch 3/100\n",
            "38/38 [==============================] - 0s 3ms/step - loss: 13194.4385 - mean_absolute_error: 80.1982 - root_mean_squared_error: 114.8671\n",
            "Epoch 4/100\n",
            "38/38 [==============================] - 0s 3ms/step - loss: 13129.3564 - mean_absolute_error: 81.2347 - root_mean_squared_error: 114.5834\n",
            "Epoch 5/100\n",
            "38/38 [==============================] - 0s 3ms/step - loss: 12783.4561 - mean_absolute_error: 79.4771 - root_mean_squared_error: 113.0639\n",
            "Epoch 6/100\n",
            "38/38 [==============================] - 0s 3ms/step - loss: 13033.3906 - mean_absolute_error: 80.4534 - root_mean_squared_error: 114.1639\n",
            "Epoch 7/100\n",
            "38/38 [==============================] - 0s 3ms/step - loss: 12892.1162 - mean_absolute_error: 80.4989 - root_mean_squared_error: 113.5435\n",
            "Epoch 8/100\n",
            "38/38 [==============================] - 0s 3ms/step - loss: 12973.8623 - mean_absolute_error: 80.2965 - root_mean_squared_error: 113.9029\n",
            "Epoch 9/100\n",
            "38/38 [==============================] - 0s 3ms/step - loss: 12718.5361 - mean_absolute_error: 79.2951 - root_mean_squared_error: 112.7765\n",
            "Epoch 10/100\n",
            "38/38 [==============================] - 0s 3ms/step - loss: 12604.1631 - mean_absolute_error: 79.0708 - root_mean_squared_error: 112.2683\n",
            "Epoch 11/100\n",
            "38/38 [==============================] - 0s 3ms/step - loss: 12759.5439 - mean_absolute_error: 80.1257 - root_mean_squared_error: 112.9582\n",
            "Epoch 12/100\n",
            "38/38 [==============================] - 0s 3ms/step - loss: 12766.9141 - mean_absolute_error: 79.4965 - root_mean_squared_error: 112.9908\n",
            "Epoch 13/100\n",
            "38/38 [==============================] - 0s 3ms/step - loss: 13001.2158 - mean_absolute_error: 81.4724 - root_mean_squared_error: 114.0229\n",
            "Epoch 14/100\n",
            "38/38 [==============================] - 0s 3ms/step - loss: 12592.3672 - mean_absolute_error: 79.2904 - root_mean_squared_error: 112.2157\n",
            "Epoch 15/100\n",
            "38/38 [==============================] - 0s 3ms/step - loss: 12486.5703 - mean_absolute_error: 78.4043 - root_mean_squared_error: 111.7433\n",
            "Epoch 16/100\n",
            "38/38 [==============================] - 0s 3ms/step - loss: 12740.1533 - mean_absolute_error: 79.6071 - root_mean_squared_error: 112.8723\n",
            "Epoch 17/100\n",
            "38/38 [==============================] - 0s 3ms/step - loss: 12869.3232 - mean_absolute_error: 80.5251 - root_mean_squared_error: 113.4430\n",
            "Epoch 18/100\n",
            "38/38 [==============================] - 0s 3ms/step - loss: 13288.5156 - mean_absolute_error: 81.6140 - root_mean_squared_error: 115.2758\n",
            "Epoch 19/100\n",
            "38/38 [==============================] - 0s 3ms/step - loss: 12535.2246 - mean_absolute_error: 78.6882 - root_mean_squared_error: 111.9608\n",
            "Epoch 20/100\n",
            "38/38 [==============================] - 0s 3ms/step - loss: 12621.3047 - mean_absolute_error: 79.0045 - root_mean_squared_error: 112.3446\n",
            "Epoch 21/100\n",
            "38/38 [==============================] - 0s 3ms/step - loss: 12483.2363 - mean_absolute_error: 78.3909 - root_mean_squared_error: 111.7284\n",
            "Epoch 22/100\n",
            "38/38 [==============================] - 0s 3ms/step - loss: 12379.3613 - mean_absolute_error: 78.8857 - root_mean_squared_error: 111.2626\n",
            "Epoch 23/100\n",
            "38/38 [==============================] - 0s 3ms/step - loss: 12706.7627 - mean_absolute_error: 79.2938 - root_mean_squared_error: 112.7243\n",
            "Epoch 24/100\n",
            "38/38 [==============================] - 0s 3ms/step - loss: 12598.0439 - mean_absolute_error: 78.8291 - root_mean_squared_error: 112.2410\n",
            "Epoch 25/100\n",
            "38/38 [==============================] - 0s 3ms/step - loss: 12792.5342 - mean_absolute_error: 79.3045 - root_mean_squared_error: 113.1041\n",
            "Epoch 26/100\n",
            "38/38 [==============================] - 0s 3ms/step - loss: 12673.3252 - mean_absolute_error: 78.8737 - root_mean_squared_error: 112.5759\n",
            "Epoch 27/100\n",
            "38/38 [==============================] - 0s 3ms/step - loss: 12389.5830 - mean_absolute_error: 78.6312 - root_mean_squared_error: 111.3085\n",
            "Epoch 28/100\n",
            "38/38 [==============================] - 0s 3ms/step - loss: 12636.4229 - mean_absolute_error: 78.6699 - root_mean_squared_error: 112.4118\n",
            "Epoch 29/100\n",
            "38/38 [==============================] - 0s 3ms/step - loss: 12663.1973 - mean_absolute_error: 79.6237 - root_mean_squared_error: 112.5309\n",
            "Epoch 30/100\n",
            "38/38 [==============================] - 0s 3ms/step - loss: 12646.3477 - mean_absolute_error: 79.1089 - root_mean_squared_error: 112.4560\n",
            "Epoch 31/100\n",
            "38/38 [==============================] - 0s 3ms/step - loss: 12430.0469 - mean_absolute_error: 77.8162 - root_mean_squared_error: 111.4901\n",
            "Epoch 32/100\n",
            "38/38 [==============================] - 0s 3ms/step - loss: 12666.7109 - mean_absolute_error: 79.3052 - root_mean_squared_error: 112.5465\n",
            "Epoch 33/100\n",
            "38/38 [==============================] - 0s 3ms/step - loss: 12443.9639 - mean_absolute_error: 78.3934 - root_mean_squared_error: 111.5525\n",
            "Epoch 34/100\n",
            "38/38 [==============================] - 0s 3ms/step - loss: 12439.9697 - mean_absolute_error: 78.2542 - root_mean_squared_error: 111.5346\n",
            "Epoch 35/100\n",
            "38/38 [==============================] - 0s 3ms/step - loss: 12457.3779 - mean_absolute_error: 78.1412 - root_mean_squared_error: 111.6126\n",
            "Epoch 36/100\n",
            "38/38 [==============================] - 0s 3ms/step - loss: 12529.3135 - mean_absolute_error: 79.7274 - root_mean_squared_error: 111.9344\n",
            "Epoch 37/100\n",
            "38/38 [==============================] - 0s 3ms/step - loss: 12727.4434 - mean_absolute_error: 79.3894 - root_mean_squared_error: 112.8160\n",
            "Epoch 38/100\n",
            "38/38 [==============================] - 0s 3ms/step - loss: 12652.2158 - mean_absolute_error: 79.5040 - root_mean_squared_error: 112.4821\n",
            "Epoch 39/100\n",
            "38/38 [==============================] - 0s 3ms/step - loss: 12695.1299 - mean_absolute_error: 78.9380 - root_mean_squared_error: 112.6727\n",
            "Epoch 40/100\n",
            "38/38 [==============================] - 0s 3ms/step - loss: 12334.5938 - mean_absolute_error: 77.7164 - root_mean_squared_error: 111.0612\n",
            "Epoch 41/100\n",
            "38/38 [==============================] - 0s 3ms/step - loss: 12602.3760 - mean_absolute_error: 79.0681 - root_mean_squared_error: 112.2603\n",
            "Epoch 42/100\n",
            "38/38 [==============================] - 0s 3ms/step - loss: 12659.4023 - mean_absolute_error: 80.3120 - root_mean_squared_error: 112.5140\n",
            "Epoch 43/100\n",
            "38/38 [==============================] - 0s 3ms/step - loss: 12304.0361 - mean_absolute_error: 77.5835 - root_mean_squared_error: 110.9236\n",
            "Epoch 44/100\n",
            "38/38 [==============================] - 0s 3ms/step - loss: 12385.1709 - mean_absolute_error: 78.0005 - root_mean_squared_error: 111.2887\n",
            "Epoch 45/100\n",
            "38/38 [==============================] - 0s 3ms/step - loss: 12261.0381 - mean_absolute_error: 77.8241 - root_mean_squared_error: 110.7296\n",
            "Epoch 46/100\n",
            "38/38 [==============================] - 0s 3ms/step - loss: 12395.0518 - mean_absolute_error: 78.5260 - root_mean_squared_error: 111.3331\n",
            "Epoch 47/100\n",
            "38/38 [==============================] - 0s 3ms/step - loss: 12522.0029 - mean_absolute_error: 78.6335 - root_mean_squared_error: 111.9018\n",
            "Epoch 48/100\n",
            "38/38 [==============================] - 0s 3ms/step - loss: 12610.4668 - mean_absolute_error: 78.7947 - root_mean_squared_error: 112.2963\n",
            "Epoch 49/100\n",
            "38/38 [==============================] - 0s 3ms/step - loss: 12371.9697 - mean_absolute_error: 78.6793 - root_mean_squared_error: 111.2294\n",
            "Epoch 50/100\n",
            "38/38 [==============================] - 0s 3ms/step - loss: 12545.1904 - mean_absolute_error: 78.5977 - root_mean_squared_error: 112.0053\n",
            "Epoch 51/100\n",
            "38/38 [==============================] - 0s 3ms/step - loss: 12541.3926 - mean_absolute_error: 79.0542 - root_mean_squared_error: 111.9884\n",
            "Epoch 52/100\n",
            "38/38 [==============================] - 0s 3ms/step - loss: 12258.9033 - mean_absolute_error: 78.3730 - root_mean_squared_error: 110.7199\n",
            "Epoch 53/100\n",
            "38/38 [==============================] - 0s 3ms/step - loss: 12373.6533 - mean_absolute_error: 78.1410 - root_mean_squared_error: 111.2369\n",
            "Epoch 54/100\n",
            "38/38 [==============================] - 0s 3ms/step - loss: 12460.7373 - mean_absolute_error: 79.1017 - root_mean_squared_error: 111.6277\n",
            "Epoch 55/100\n",
            "38/38 [==============================] - 0s 3ms/step - loss: 12443.6084 - mean_absolute_error: 79.0355 - root_mean_squared_error: 111.5509\n",
            "Epoch 56/100\n",
            "38/38 [==============================] - 0s 3ms/step - loss: 12417.8525 - mean_absolute_error: 78.6419 - root_mean_squared_error: 111.4354\n",
            "Epoch 57/100\n",
            "38/38 [==============================] - 0s 3ms/step - loss: 12280.9756 - mean_absolute_error: 78.0340 - root_mean_squared_error: 110.8196\n",
            "Epoch 58/100\n",
            "38/38 [==============================] - 0s 3ms/step - loss: 12561.3135 - mean_absolute_error: 80.0159 - root_mean_squared_error: 112.0773\n",
            "Epoch 59/100\n",
            "38/38 [==============================] - 0s 3ms/step - loss: 12367.8916 - mean_absolute_error: 77.8266 - root_mean_squared_error: 111.2110\n",
            "Epoch 60/100\n",
            "38/38 [==============================] - 0s 3ms/step - loss: 12524.2637 - mean_absolute_error: 79.3867 - root_mean_squared_error: 111.9119\n",
            "Epoch 61/100\n",
            "38/38 [==============================] - 0s 3ms/step - loss: 12233.3633 - mean_absolute_error: 77.6435 - root_mean_squared_error: 110.6045\n",
            "Epoch 62/100\n",
            "38/38 [==============================] - 0s 3ms/step - loss: 12611.3926 - mean_absolute_error: 79.4928 - root_mean_squared_error: 112.3005\n",
            "Epoch 63/100\n",
            "38/38 [==============================] - 0s 3ms/step - loss: 12257.3623 - mean_absolute_error: 77.7884 - root_mean_squared_error: 110.7130\n",
            "Epoch 64/100\n",
            "38/38 [==============================] - 0s 3ms/step - loss: 12304.8184 - mean_absolute_error: 78.0860 - root_mean_squared_error: 110.9271\n",
            "Epoch 65/100\n",
            "38/38 [==============================] - 0s 3ms/step - loss: 12897.5107 - mean_absolute_error: 80.2411 - root_mean_squared_error: 113.5672\n",
            "Epoch 66/100\n",
            "38/38 [==============================] - 0s 3ms/step - loss: 12530.8574 - mean_absolute_error: 80.3411 - root_mean_squared_error: 111.9413\n",
            "Epoch 67/100\n",
            "38/38 [==============================] - 0s 3ms/step - loss: 12263.3213 - mean_absolute_error: 78.0556 - root_mean_squared_error: 110.7399\n",
            "Epoch 68/100\n",
            "38/38 [==============================] - 0s 3ms/step - loss: 12156.8770 - mean_absolute_error: 77.7513 - root_mean_squared_error: 110.2582\n",
            "Epoch 69/100\n",
            "38/38 [==============================] - 0s 3ms/step - loss: 12602.3447 - mean_absolute_error: 80.0216 - root_mean_squared_error: 112.2602\n",
            "Epoch 70/100\n",
            "38/38 [==============================] - 0s 3ms/step - loss: 12278.4082 - mean_absolute_error: 78.2685 - root_mean_squared_error: 110.8080\n",
            "Epoch 71/100\n",
            "38/38 [==============================] - 0s 3ms/step - loss: 12881.0996 - mean_absolute_error: 81.6953 - root_mean_squared_error: 113.4949\n",
            "Epoch 72/100\n",
            "38/38 [==============================] - 0s 3ms/step - loss: 12442.4092 - mean_absolute_error: 78.0766 - root_mean_squared_error: 111.5455\n",
            "Epoch 73/100\n",
            "38/38 [==============================] - 0s 3ms/step - loss: 12460.3662 - mean_absolute_error: 78.3868 - root_mean_squared_error: 111.6260\n",
            "Epoch 74/100\n",
            "38/38 [==============================] - 0s 3ms/step - loss: 12197.9512 - mean_absolute_error: 77.7273 - root_mean_squared_error: 110.4443\n",
            "Epoch 75/100\n",
            "38/38 [==============================] - 0s 3ms/step - loss: 12494.6855 - mean_absolute_error: 79.6346 - root_mean_squared_error: 111.7796\n",
            "Epoch 76/100\n",
            "38/38 [==============================] - 0s 3ms/step - loss: 12178.2812 - mean_absolute_error: 77.5595 - root_mean_squared_error: 110.3552\n",
            "Epoch 77/100\n",
            "38/38 [==============================] - 0s 3ms/step - loss: 12182.7256 - mean_absolute_error: 78.1636 - root_mean_squared_error: 110.3754\n",
            "Epoch 78/100\n",
            "38/38 [==============================] - 0s 3ms/step - loss: 12097.5938 - mean_absolute_error: 77.1835 - root_mean_squared_error: 109.9891\n",
            "Epoch 79/100\n",
            "38/38 [==============================] - 0s 3ms/step - loss: 12251.1191 - mean_absolute_error: 77.4681 - root_mean_squared_error: 110.6848\n",
            "Epoch 80/100\n",
            "38/38 [==============================] - 0s 3ms/step - loss: 12451.3799 - mean_absolute_error: 78.7231 - root_mean_squared_error: 111.5858\n",
            "Epoch 81/100\n",
            "38/38 [==============================] - 0s 3ms/step - loss: 12411.3672 - mean_absolute_error: 78.9157 - root_mean_squared_error: 111.4063\n",
            "Epoch 82/100\n",
            "38/38 [==============================] - 0s 3ms/step - loss: 12087.8936 - mean_absolute_error: 77.2794 - root_mean_squared_error: 109.9450\n",
            "Epoch 83/100\n",
            "38/38 [==============================] - 0s 3ms/step - loss: 12645.5078 - mean_absolute_error: 80.6615 - root_mean_squared_error: 112.4522\n",
            "Epoch 84/100\n",
            "38/38 [==============================] - 0s 3ms/step - loss: 12019.1436 - mean_absolute_error: 76.8889 - root_mean_squared_error: 109.6319\n",
            "Epoch 85/100\n",
            "38/38 [==============================] - 0s 3ms/step - loss: 12137.9600 - mean_absolute_error: 78.0808 - root_mean_squared_error: 110.1724\n",
            "Epoch 86/100\n",
            "38/38 [==============================] - 0s 3ms/step - loss: 12137.1035 - mean_absolute_error: 77.0388 - root_mean_squared_error: 110.1685\n",
            "Epoch 87/100\n",
            "38/38 [==============================] - 0s 3ms/step - loss: 12089.3623 - mean_absolute_error: 76.8016 - root_mean_squared_error: 109.9516\n",
            "Epoch 88/100\n",
            "38/38 [==============================] - 0s 3ms/step - loss: 12227.3467 - mean_absolute_error: 78.4873 - root_mean_squared_error: 110.5773\n",
            "Epoch 89/100\n",
            "38/38 [==============================] - 0s 3ms/step - loss: 12064.9805 - mean_absolute_error: 77.6677 - root_mean_squared_error: 109.8407\n",
            "Epoch 90/100\n",
            "38/38 [==============================] - 0s 3ms/step - loss: 12288.0938 - mean_absolute_error: 77.6985 - root_mean_squared_error: 110.8517\n",
            "Epoch 91/100\n",
            "38/38 [==============================] - 0s 3ms/step - loss: 12208.2070 - mean_absolute_error: 77.7547 - root_mean_squared_error: 110.4908\n",
            "Epoch 92/100\n",
            "38/38 [==============================] - 0s 3ms/step - loss: 12263.6025 - mean_absolute_error: 77.8855 - root_mean_squared_error: 110.7411\n",
            "Epoch 93/100\n",
            "38/38 [==============================] - 0s 3ms/step - loss: 12153.4502 - mean_absolute_error: 77.3005 - root_mean_squared_error: 110.2427\n",
            "Epoch 94/100\n",
            "38/38 [==============================] - 0s 3ms/step - loss: 12261.3398 - mean_absolute_error: 78.2319 - root_mean_squared_error: 110.7309\n",
            "Epoch 95/100\n",
            "38/38 [==============================] - 0s 3ms/step - loss: 12315.2549 - mean_absolute_error: 78.7126 - root_mean_squared_error: 110.9741\n",
            "Epoch 96/100\n",
            "38/38 [==============================] - 0s 3ms/step - loss: 12271.3086 - mean_absolute_error: 78.2878 - root_mean_squared_error: 110.7759\n",
            "Epoch 97/100\n",
            "38/38 [==============================] - 0s 3ms/step - loss: 12024.1738 - mean_absolute_error: 77.4616 - root_mean_squared_error: 109.6548\n",
            "Epoch 98/100\n",
            "38/38 [==============================] - 0s 3ms/step - loss: 12104.5654 - mean_absolute_error: 76.9585 - root_mean_squared_error: 110.0208\n",
            "Epoch 99/100\n",
            "38/38 [==============================] - 0s 3ms/step - loss: 11821.4072 - mean_absolute_error: 76.0580 - root_mean_squared_error: 108.7263\n",
            "Epoch 100/100\n",
            "38/38 [==============================] - 0s 3ms/step - loss: 12068.7559 - mean_absolute_error: 77.6342 - root_mean_squared_error: 109.8579\n"
          ],
          "name": "stdout"
        },
        {
          "output_type": "execute_result",
          "data": {
            "text/plain": [
              "<tensorflow.python.keras.callbacks.History at 0x7fa3bd69b210>"
            ]
          },
          "metadata": {
            "tags": []
          },
          "execution_count": 98
        }
      ]
    },
    {
      "cell_type": "code",
      "metadata": {
        "colab": {
          "base_uri": "https://localhost:8080/"
        },
        "id": "QK0XOMTZuj4X",
        "outputId": "555e4582-93e7-4c31-f37d-6350efcbbc30"
      },
      "source": [
        "model1.fit(x_train, y1_train)\n",
        "model2.fit(x_train, y2_train)"
      ],
      "execution_count": 92,
      "outputs": [
        {
          "output_type": "stream",
          "text": [
            "38/38 [==============================] - 0s 3ms/step - loss: 59858.2773 - mean_absolute_error: 193.0800 - root_mean_squared_error: 244.6595\n",
            "38/38 [==============================] - 0s 3ms/step - loss: 29602.2598 - mean_absolute_error: 127.7489 - root_mean_squared_error: 172.0531\n"
          ],
          "name": "stdout"
        },
        {
          "output_type": "execute_result",
          "data": {
            "text/plain": [
              "<tensorflow.python.keras.callbacks.History at 0x7fa3c4f528d0>"
            ]
          },
          "metadata": {
            "tags": []
          },
          "execution_count": 92
        }
      ]
    },
    {
      "cell_type": "markdown",
      "metadata": {
        "id": "BC-hwjyXuj4X"
      },
      "source": [
        "## 추론"
      ]
    },
    {
      "cell_type": "code",
      "metadata": {
        "id": "A5RlbS_2uj4X"
      },
      "source": [
        "pred1 = model1.predict(x_test)\n",
        "pred2 = model2.predict(x_test)"
      ],
      "execution_count": 99,
      "outputs": []
    },
    {
      "cell_type": "markdown",
      "metadata": {
        "id": "FsATPR3zuj4Y"
      },
      "source": [
        "## 결과 제출"
      ]
    },
    {
      "cell_type": "code",
      "metadata": {
        "id": "KgqhOuNruj4Y"
      },
      "source": [
        "submission['중식계'] = pred1\n",
        "submission['석식계'] = pred2"
      ],
      "execution_count": 100,
      "outputs": []
    },
    {
      "cell_type": "code",
      "metadata": {
        "id": "0nuMt8Qxuj4Y"
      },
      "source": [
        "submission.to_csv('baseline.csv', index=False)"
      ],
      "execution_count": 101,
      "outputs": []
    },
    {
      "cell_type": "code",
      "metadata": {
        "id": "LGBfiZsEv19l"
      },
      "source": [
        ""
      ],
      "execution_count": null,
      "outputs": []
    }
  ]
}